{
  "nbformat": 4,
  "nbformat_minor": 0,
  "metadata": {
    "colab": {
      "provenance": [],
      "collapsed_sections": []
    },
    "kernelspec": {
      "name": "python3",
      "display_name": "Python 3"
    },
    "language_info": {
      "name": "python"
    },
    "widgets": {
      "application/vnd.jupyter.widget-state+json": {
        "028d7fefb3af432a9018d9100c3d48fa": {
          "model_module": "@jupyter-widgets/controls",
          "model_name": "HBoxModel",
          "model_module_version": "1.5.0",
          "state": {
            "_dom_classes": [],
            "_model_module": "@jupyter-widgets/controls",
            "_model_module_version": "1.5.0",
            "_model_name": "HBoxModel",
            "_view_count": null,
            "_view_module": "@jupyter-widgets/controls",
            "_view_module_version": "1.5.0",
            "_view_name": "HBoxView",
            "box_style": "",
            "children": [
              "IPY_MODEL_6561f0a7d1124832ac71b5dd05da3206",
              "IPY_MODEL_5045da5e1b934b1a8546b1dde7eec881",
              "IPY_MODEL_8434789066344ea5bf50f591e208c46a"
            ],
            "layout": "IPY_MODEL_84eb285402924f2487368f6a862daaba"
          }
        },
        "6561f0a7d1124832ac71b5dd05da3206": {
          "model_module": "@jupyter-widgets/controls",
          "model_name": "HTMLModel",
          "model_module_version": "1.5.0",
          "state": {
            "_dom_classes": [],
            "_model_module": "@jupyter-widgets/controls",
            "_model_module_version": "1.5.0",
            "_model_name": "HTMLModel",
            "_view_count": null,
            "_view_module": "@jupyter-widgets/controls",
            "_view_module_version": "1.5.0",
            "_view_name": "HTMLView",
            "description": "",
            "description_tooltip": null,
            "layout": "IPY_MODEL_4576fd3d12e4472e9e0ac13630189d69",
            "placeholder": "​",
            "style": "IPY_MODEL_6d52ff469cdd4f2197c576fb662e623f",
            "value": "100%"
          }
        },
        "5045da5e1b934b1a8546b1dde7eec881": {
          "model_module": "@jupyter-widgets/controls",
          "model_name": "FloatProgressModel",
          "model_module_version": "1.5.0",
          "state": {
            "_dom_classes": [],
            "_model_module": "@jupyter-widgets/controls",
            "_model_module_version": "1.5.0",
            "_model_name": "FloatProgressModel",
            "_view_count": null,
            "_view_module": "@jupyter-widgets/controls",
            "_view_module_version": "1.5.0",
            "_view_name": "ProgressView",
            "bar_style": "success",
            "description": "",
            "description_tooltip": null,
            "layout": "IPY_MODEL_300a0050d874464d86d3a94514bfaec7",
            "max": 9912422,
            "min": 0,
            "orientation": "horizontal",
            "style": "IPY_MODEL_a06378b27d7442ec8126f60260b2da87",
            "value": 9912422
          }
        },
        "8434789066344ea5bf50f591e208c46a": {
          "model_module": "@jupyter-widgets/controls",
          "model_name": "HTMLModel",
          "model_module_version": "1.5.0",
          "state": {
            "_dom_classes": [],
            "_model_module": "@jupyter-widgets/controls",
            "_model_module_version": "1.5.0",
            "_model_name": "HTMLModel",
            "_view_count": null,
            "_view_module": "@jupyter-widgets/controls",
            "_view_module_version": "1.5.0",
            "_view_name": "HTMLView",
            "description": "",
            "description_tooltip": null,
            "layout": "IPY_MODEL_6c326f4dcbcf48ce9db0a56b67605470",
            "placeholder": "​",
            "style": "IPY_MODEL_51b6306c7c324809ae05e1c62ff1f667",
            "value": " 9912422/9912422 [00:00&lt;00:00, 29950219.55it/s]"
          }
        },
        "84eb285402924f2487368f6a862daaba": {
          "model_module": "@jupyter-widgets/base",
          "model_name": "LayoutModel",
          "model_module_version": "1.2.0",
          "state": {
            "_model_module": "@jupyter-widgets/base",
            "_model_module_version": "1.2.0",
            "_model_name": "LayoutModel",
            "_view_count": null,
            "_view_module": "@jupyter-widgets/base",
            "_view_module_version": "1.2.0",
            "_view_name": "LayoutView",
            "align_content": null,
            "align_items": null,
            "align_self": null,
            "border": null,
            "bottom": null,
            "display": null,
            "flex": null,
            "flex_flow": null,
            "grid_area": null,
            "grid_auto_columns": null,
            "grid_auto_flow": null,
            "grid_auto_rows": null,
            "grid_column": null,
            "grid_gap": null,
            "grid_row": null,
            "grid_template_areas": null,
            "grid_template_columns": null,
            "grid_template_rows": null,
            "height": null,
            "justify_content": null,
            "justify_items": null,
            "left": null,
            "margin": null,
            "max_height": null,
            "max_width": null,
            "min_height": null,
            "min_width": null,
            "object_fit": null,
            "object_position": null,
            "order": null,
            "overflow": null,
            "overflow_x": null,
            "overflow_y": null,
            "padding": null,
            "right": null,
            "top": null,
            "visibility": null,
            "width": null
          }
        },
        "4576fd3d12e4472e9e0ac13630189d69": {
          "model_module": "@jupyter-widgets/base",
          "model_name": "LayoutModel",
          "model_module_version": "1.2.0",
          "state": {
            "_model_module": "@jupyter-widgets/base",
            "_model_module_version": "1.2.0",
            "_model_name": "LayoutModel",
            "_view_count": null,
            "_view_module": "@jupyter-widgets/base",
            "_view_module_version": "1.2.0",
            "_view_name": "LayoutView",
            "align_content": null,
            "align_items": null,
            "align_self": null,
            "border": null,
            "bottom": null,
            "display": null,
            "flex": null,
            "flex_flow": null,
            "grid_area": null,
            "grid_auto_columns": null,
            "grid_auto_flow": null,
            "grid_auto_rows": null,
            "grid_column": null,
            "grid_gap": null,
            "grid_row": null,
            "grid_template_areas": null,
            "grid_template_columns": null,
            "grid_template_rows": null,
            "height": null,
            "justify_content": null,
            "justify_items": null,
            "left": null,
            "margin": null,
            "max_height": null,
            "max_width": null,
            "min_height": null,
            "min_width": null,
            "object_fit": null,
            "object_position": null,
            "order": null,
            "overflow": null,
            "overflow_x": null,
            "overflow_y": null,
            "padding": null,
            "right": null,
            "top": null,
            "visibility": null,
            "width": null
          }
        },
        "6d52ff469cdd4f2197c576fb662e623f": {
          "model_module": "@jupyter-widgets/controls",
          "model_name": "DescriptionStyleModel",
          "model_module_version": "1.5.0",
          "state": {
            "_model_module": "@jupyter-widgets/controls",
            "_model_module_version": "1.5.0",
            "_model_name": "DescriptionStyleModel",
            "_view_count": null,
            "_view_module": "@jupyter-widgets/base",
            "_view_module_version": "1.2.0",
            "_view_name": "StyleView",
            "description_width": ""
          }
        },
        "300a0050d874464d86d3a94514bfaec7": {
          "model_module": "@jupyter-widgets/base",
          "model_name": "LayoutModel",
          "model_module_version": "1.2.0",
          "state": {
            "_model_module": "@jupyter-widgets/base",
            "_model_module_version": "1.2.0",
            "_model_name": "LayoutModel",
            "_view_count": null,
            "_view_module": "@jupyter-widgets/base",
            "_view_module_version": "1.2.0",
            "_view_name": "LayoutView",
            "align_content": null,
            "align_items": null,
            "align_self": null,
            "border": null,
            "bottom": null,
            "display": null,
            "flex": null,
            "flex_flow": null,
            "grid_area": null,
            "grid_auto_columns": null,
            "grid_auto_flow": null,
            "grid_auto_rows": null,
            "grid_column": null,
            "grid_gap": null,
            "grid_row": null,
            "grid_template_areas": null,
            "grid_template_columns": null,
            "grid_template_rows": null,
            "height": null,
            "justify_content": null,
            "justify_items": null,
            "left": null,
            "margin": null,
            "max_height": null,
            "max_width": null,
            "min_height": null,
            "min_width": null,
            "object_fit": null,
            "object_position": null,
            "order": null,
            "overflow": null,
            "overflow_x": null,
            "overflow_y": null,
            "padding": null,
            "right": null,
            "top": null,
            "visibility": null,
            "width": null
          }
        },
        "a06378b27d7442ec8126f60260b2da87": {
          "model_module": "@jupyter-widgets/controls",
          "model_name": "ProgressStyleModel",
          "model_module_version": "1.5.0",
          "state": {
            "_model_module": "@jupyter-widgets/controls",
            "_model_module_version": "1.5.0",
            "_model_name": "ProgressStyleModel",
            "_view_count": null,
            "_view_module": "@jupyter-widgets/base",
            "_view_module_version": "1.2.0",
            "_view_name": "StyleView",
            "bar_color": null,
            "description_width": ""
          }
        },
        "6c326f4dcbcf48ce9db0a56b67605470": {
          "model_module": "@jupyter-widgets/base",
          "model_name": "LayoutModel",
          "model_module_version": "1.2.0",
          "state": {
            "_model_module": "@jupyter-widgets/base",
            "_model_module_version": "1.2.0",
            "_model_name": "LayoutModel",
            "_view_count": null,
            "_view_module": "@jupyter-widgets/base",
            "_view_module_version": "1.2.0",
            "_view_name": "LayoutView",
            "align_content": null,
            "align_items": null,
            "align_self": null,
            "border": null,
            "bottom": null,
            "display": null,
            "flex": null,
            "flex_flow": null,
            "grid_area": null,
            "grid_auto_columns": null,
            "grid_auto_flow": null,
            "grid_auto_rows": null,
            "grid_column": null,
            "grid_gap": null,
            "grid_row": null,
            "grid_template_areas": null,
            "grid_template_columns": null,
            "grid_template_rows": null,
            "height": null,
            "justify_content": null,
            "justify_items": null,
            "left": null,
            "margin": null,
            "max_height": null,
            "max_width": null,
            "min_height": null,
            "min_width": null,
            "object_fit": null,
            "object_position": null,
            "order": null,
            "overflow": null,
            "overflow_x": null,
            "overflow_y": null,
            "padding": null,
            "right": null,
            "top": null,
            "visibility": null,
            "width": null
          }
        },
        "51b6306c7c324809ae05e1c62ff1f667": {
          "model_module": "@jupyter-widgets/controls",
          "model_name": "DescriptionStyleModel",
          "model_module_version": "1.5.0",
          "state": {
            "_model_module": "@jupyter-widgets/controls",
            "_model_module_version": "1.5.0",
            "_model_name": "DescriptionStyleModel",
            "_view_count": null,
            "_view_module": "@jupyter-widgets/base",
            "_view_module_version": "1.2.0",
            "_view_name": "StyleView",
            "description_width": ""
          }
        },
        "a7f5617216a64545a0817cb233a9939d": {
          "model_module": "@jupyter-widgets/controls",
          "model_name": "HBoxModel",
          "model_module_version": "1.5.0",
          "state": {
            "_dom_classes": [],
            "_model_module": "@jupyter-widgets/controls",
            "_model_module_version": "1.5.0",
            "_model_name": "HBoxModel",
            "_view_count": null,
            "_view_module": "@jupyter-widgets/controls",
            "_view_module_version": "1.5.0",
            "_view_name": "HBoxView",
            "box_style": "",
            "children": [
              "IPY_MODEL_9c13bead935347389a7a65906de762c9",
              "IPY_MODEL_7321f7eda6a64345a7328661c9b7c590",
              "IPY_MODEL_b2f14c9bc5ae4aa3accd525d7179daff"
            ],
            "layout": "IPY_MODEL_4a4650e32c1f4f84b0f70b18f0aabe65"
          }
        },
        "9c13bead935347389a7a65906de762c9": {
          "model_module": "@jupyter-widgets/controls",
          "model_name": "HTMLModel",
          "model_module_version": "1.5.0",
          "state": {
            "_dom_classes": [],
            "_model_module": "@jupyter-widgets/controls",
            "_model_module_version": "1.5.0",
            "_model_name": "HTMLModel",
            "_view_count": null,
            "_view_module": "@jupyter-widgets/controls",
            "_view_module_version": "1.5.0",
            "_view_name": "HTMLView",
            "description": "",
            "description_tooltip": null,
            "layout": "IPY_MODEL_dbb939fe40a2479a863222bef3750623",
            "placeholder": "​",
            "style": "IPY_MODEL_43fe845492484237b1b0437cd1c64ba3",
            "value": "100%"
          }
        },
        "7321f7eda6a64345a7328661c9b7c590": {
          "model_module": "@jupyter-widgets/controls",
          "model_name": "FloatProgressModel",
          "model_module_version": "1.5.0",
          "state": {
            "_dom_classes": [],
            "_model_module": "@jupyter-widgets/controls",
            "_model_module_version": "1.5.0",
            "_model_name": "FloatProgressModel",
            "_view_count": null,
            "_view_module": "@jupyter-widgets/controls",
            "_view_module_version": "1.5.0",
            "_view_name": "ProgressView",
            "bar_style": "success",
            "description": "",
            "description_tooltip": null,
            "layout": "IPY_MODEL_5c4b4684c95c4da7a6c6f45931cc0811",
            "max": 28881,
            "min": 0,
            "orientation": "horizontal",
            "style": "IPY_MODEL_70b81590dd1345f894e68e2ddc925243",
            "value": 28881
          }
        },
        "b2f14c9bc5ae4aa3accd525d7179daff": {
          "model_module": "@jupyter-widgets/controls",
          "model_name": "HTMLModel",
          "model_module_version": "1.5.0",
          "state": {
            "_dom_classes": [],
            "_model_module": "@jupyter-widgets/controls",
            "_model_module_version": "1.5.0",
            "_model_name": "HTMLModel",
            "_view_count": null,
            "_view_module": "@jupyter-widgets/controls",
            "_view_module_version": "1.5.0",
            "_view_name": "HTMLView",
            "description": "",
            "description_tooltip": null,
            "layout": "IPY_MODEL_eb434b2b71a64e538b063bfc98bfc0ef",
            "placeholder": "​",
            "style": "IPY_MODEL_b4c6ccb318634e56af920e6ea30b8d96",
            "value": " 28881/28881 [00:00&lt;00:00, 234027.08it/s]"
          }
        },
        "4a4650e32c1f4f84b0f70b18f0aabe65": {
          "model_module": "@jupyter-widgets/base",
          "model_name": "LayoutModel",
          "model_module_version": "1.2.0",
          "state": {
            "_model_module": "@jupyter-widgets/base",
            "_model_module_version": "1.2.0",
            "_model_name": "LayoutModel",
            "_view_count": null,
            "_view_module": "@jupyter-widgets/base",
            "_view_module_version": "1.2.0",
            "_view_name": "LayoutView",
            "align_content": null,
            "align_items": null,
            "align_self": null,
            "border": null,
            "bottom": null,
            "display": null,
            "flex": null,
            "flex_flow": null,
            "grid_area": null,
            "grid_auto_columns": null,
            "grid_auto_flow": null,
            "grid_auto_rows": null,
            "grid_column": null,
            "grid_gap": null,
            "grid_row": null,
            "grid_template_areas": null,
            "grid_template_columns": null,
            "grid_template_rows": null,
            "height": null,
            "justify_content": null,
            "justify_items": null,
            "left": null,
            "margin": null,
            "max_height": null,
            "max_width": null,
            "min_height": null,
            "min_width": null,
            "object_fit": null,
            "object_position": null,
            "order": null,
            "overflow": null,
            "overflow_x": null,
            "overflow_y": null,
            "padding": null,
            "right": null,
            "top": null,
            "visibility": null,
            "width": null
          }
        },
        "dbb939fe40a2479a863222bef3750623": {
          "model_module": "@jupyter-widgets/base",
          "model_name": "LayoutModel",
          "model_module_version": "1.2.0",
          "state": {
            "_model_module": "@jupyter-widgets/base",
            "_model_module_version": "1.2.0",
            "_model_name": "LayoutModel",
            "_view_count": null,
            "_view_module": "@jupyter-widgets/base",
            "_view_module_version": "1.2.0",
            "_view_name": "LayoutView",
            "align_content": null,
            "align_items": null,
            "align_self": null,
            "border": null,
            "bottom": null,
            "display": null,
            "flex": null,
            "flex_flow": null,
            "grid_area": null,
            "grid_auto_columns": null,
            "grid_auto_flow": null,
            "grid_auto_rows": null,
            "grid_column": null,
            "grid_gap": null,
            "grid_row": null,
            "grid_template_areas": null,
            "grid_template_columns": null,
            "grid_template_rows": null,
            "height": null,
            "justify_content": null,
            "justify_items": null,
            "left": null,
            "margin": null,
            "max_height": null,
            "max_width": null,
            "min_height": null,
            "min_width": null,
            "object_fit": null,
            "object_position": null,
            "order": null,
            "overflow": null,
            "overflow_x": null,
            "overflow_y": null,
            "padding": null,
            "right": null,
            "top": null,
            "visibility": null,
            "width": null
          }
        },
        "43fe845492484237b1b0437cd1c64ba3": {
          "model_module": "@jupyter-widgets/controls",
          "model_name": "DescriptionStyleModel",
          "model_module_version": "1.5.0",
          "state": {
            "_model_module": "@jupyter-widgets/controls",
            "_model_module_version": "1.5.0",
            "_model_name": "DescriptionStyleModel",
            "_view_count": null,
            "_view_module": "@jupyter-widgets/base",
            "_view_module_version": "1.2.0",
            "_view_name": "StyleView",
            "description_width": ""
          }
        },
        "5c4b4684c95c4da7a6c6f45931cc0811": {
          "model_module": "@jupyter-widgets/base",
          "model_name": "LayoutModel",
          "model_module_version": "1.2.0",
          "state": {
            "_model_module": "@jupyter-widgets/base",
            "_model_module_version": "1.2.0",
            "_model_name": "LayoutModel",
            "_view_count": null,
            "_view_module": "@jupyter-widgets/base",
            "_view_module_version": "1.2.0",
            "_view_name": "LayoutView",
            "align_content": null,
            "align_items": null,
            "align_self": null,
            "border": null,
            "bottom": null,
            "display": null,
            "flex": null,
            "flex_flow": null,
            "grid_area": null,
            "grid_auto_columns": null,
            "grid_auto_flow": null,
            "grid_auto_rows": null,
            "grid_column": null,
            "grid_gap": null,
            "grid_row": null,
            "grid_template_areas": null,
            "grid_template_columns": null,
            "grid_template_rows": null,
            "height": null,
            "justify_content": null,
            "justify_items": null,
            "left": null,
            "margin": null,
            "max_height": null,
            "max_width": null,
            "min_height": null,
            "min_width": null,
            "object_fit": null,
            "object_position": null,
            "order": null,
            "overflow": null,
            "overflow_x": null,
            "overflow_y": null,
            "padding": null,
            "right": null,
            "top": null,
            "visibility": null,
            "width": null
          }
        },
        "70b81590dd1345f894e68e2ddc925243": {
          "model_module": "@jupyter-widgets/controls",
          "model_name": "ProgressStyleModel",
          "model_module_version": "1.5.0",
          "state": {
            "_model_module": "@jupyter-widgets/controls",
            "_model_module_version": "1.5.0",
            "_model_name": "ProgressStyleModel",
            "_view_count": null,
            "_view_module": "@jupyter-widgets/base",
            "_view_module_version": "1.2.0",
            "_view_name": "StyleView",
            "bar_color": null,
            "description_width": ""
          }
        },
        "eb434b2b71a64e538b063bfc98bfc0ef": {
          "model_module": "@jupyter-widgets/base",
          "model_name": "LayoutModel",
          "model_module_version": "1.2.0",
          "state": {
            "_model_module": "@jupyter-widgets/base",
            "_model_module_version": "1.2.0",
            "_model_name": "LayoutModel",
            "_view_count": null,
            "_view_module": "@jupyter-widgets/base",
            "_view_module_version": "1.2.0",
            "_view_name": "LayoutView",
            "align_content": null,
            "align_items": null,
            "align_self": null,
            "border": null,
            "bottom": null,
            "display": null,
            "flex": null,
            "flex_flow": null,
            "grid_area": null,
            "grid_auto_columns": null,
            "grid_auto_flow": null,
            "grid_auto_rows": null,
            "grid_column": null,
            "grid_gap": null,
            "grid_row": null,
            "grid_template_areas": null,
            "grid_template_columns": null,
            "grid_template_rows": null,
            "height": null,
            "justify_content": null,
            "justify_items": null,
            "left": null,
            "margin": null,
            "max_height": null,
            "max_width": null,
            "min_height": null,
            "min_width": null,
            "object_fit": null,
            "object_position": null,
            "order": null,
            "overflow": null,
            "overflow_x": null,
            "overflow_y": null,
            "padding": null,
            "right": null,
            "top": null,
            "visibility": null,
            "width": null
          }
        },
        "b4c6ccb318634e56af920e6ea30b8d96": {
          "model_module": "@jupyter-widgets/controls",
          "model_name": "DescriptionStyleModel",
          "model_module_version": "1.5.0",
          "state": {
            "_model_module": "@jupyter-widgets/controls",
            "_model_module_version": "1.5.0",
            "_model_name": "DescriptionStyleModel",
            "_view_count": null,
            "_view_module": "@jupyter-widgets/base",
            "_view_module_version": "1.2.0",
            "_view_name": "StyleView",
            "description_width": ""
          }
        },
        "1cbaa63207b14be8a9ff76018d350dc4": {
          "model_module": "@jupyter-widgets/controls",
          "model_name": "HBoxModel",
          "model_module_version": "1.5.0",
          "state": {
            "_dom_classes": [],
            "_model_module": "@jupyter-widgets/controls",
            "_model_module_version": "1.5.0",
            "_model_name": "HBoxModel",
            "_view_count": null,
            "_view_module": "@jupyter-widgets/controls",
            "_view_module_version": "1.5.0",
            "_view_name": "HBoxView",
            "box_style": "",
            "children": [
              "IPY_MODEL_e849c344a17f4ec0b8bbe81658985992",
              "IPY_MODEL_38f40326056c454c920d4ed5fac0c1ea",
              "IPY_MODEL_44bd722789894437badd5fbf1d5a879b"
            ],
            "layout": "IPY_MODEL_0b34ff22a815410ab0f4fd0d09a7a189"
          }
        },
        "e849c344a17f4ec0b8bbe81658985992": {
          "model_module": "@jupyter-widgets/controls",
          "model_name": "HTMLModel",
          "model_module_version": "1.5.0",
          "state": {
            "_dom_classes": [],
            "_model_module": "@jupyter-widgets/controls",
            "_model_module_version": "1.5.0",
            "_model_name": "HTMLModel",
            "_view_count": null,
            "_view_module": "@jupyter-widgets/controls",
            "_view_module_version": "1.5.0",
            "_view_name": "HTMLView",
            "description": "",
            "description_tooltip": null,
            "layout": "IPY_MODEL_fcc926002a904be197e63dfe78d678d7",
            "placeholder": "​",
            "style": "IPY_MODEL_c983d5bc32db4c5aa8064eb699ebd487",
            "value": "100%"
          }
        },
        "38f40326056c454c920d4ed5fac0c1ea": {
          "model_module": "@jupyter-widgets/controls",
          "model_name": "FloatProgressModel",
          "model_module_version": "1.5.0",
          "state": {
            "_dom_classes": [],
            "_model_module": "@jupyter-widgets/controls",
            "_model_module_version": "1.5.0",
            "_model_name": "FloatProgressModel",
            "_view_count": null,
            "_view_module": "@jupyter-widgets/controls",
            "_view_module_version": "1.5.0",
            "_view_name": "ProgressView",
            "bar_style": "success",
            "description": "",
            "description_tooltip": null,
            "layout": "IPY_MODEL_19fa6797976f4c438dbee49b45d441b7",
            "max": 1648877,
            "min": 0,
            "orientation": "horizontal",
            "style": "IPY_MODEL_d8392bdbb53b48b3b20b2c2006fe52d5",
            "value": 1648877
          }
        },
        "44bd722789894437badd5fbf1d5a879b": {
          "model_module": "@jupyter-widgets/controls",
          "model_name": "HTMLModel",
          "model_module_version": "1.5.0",
          "state": {
            "_dom_classes": [],
            "_model_module": "@jupyter-widgets/controls",
            "_model_module_version": "1.5.0",
            "_model_name": "HTMLModel",
            "_view_count": null,
            "_view_module": "@jupyter-widgets/controls",
            "_view_module_version": "1.5.0",
            "_view_name": "HTMLView",
            "description": "",
            "description_tooltip": null,
            "layout": "IPY_MODEL_646e53ee58ee46ac8a44db1b9412881f",
            "placeholder": "​",
            "style": "IPY_MODEL_754f289a4f264c70891f651eed6b7a6c",
            "value": " 1648877/1648877 [00:00&lt;00:00, 3467615.39it/s]"
          }
        },
        "0b34ff22a815410ab0f4fd0d09a7a189": {
          "model_module": "@jupyter-widgets/base",
          "model_name": "LayoutModel",
          "model_module_version": "1.2.0",
          "state": {
            "_model_module": "@jupyter-widgets/base",
            "_model_module_version": "1.2.0",
            "_model_name": "LayoutModel",
            "_view_count": null,
            "_view_module": "@jupyter-widgets/base",
            "_view_module_version": "1.2.0",
            "_view_name": "LayoutView",
            "align_content": null,
            "align_items": null,
            "align_self": null,
            "border": null,
            "bottom": null,
            "display": null,
            "flex": null,
            "flex_flow": null,
            "grid_area": null,
            "grid_auto_columns": null,
            "grid_auto_flow": null,
            "grid_auto_rows": null,
            "grid_column": null,
            "grid_gap": null,
            "grid_row": null,
            "grid_template_areas": null,
            "grid_template_columns": null,
            "grid_template_rows": null,
            "height": null,
            "justify_content": null,
            "justify_items": null,
            "left": null,
            "margin": null,
            "max_height": null,
            "max_width": null,
            "min_height": null,
            "min_width": null,
            "object_fit": null,
            "object_position": null,
            "order": null,
            "overflow": null,
            "overflow_x": null,
            "overflow_y": null,
            "padding": null,
            "right": null,
            "top": null,
            "visibility": null,
            "width": null
          }
        },
        "fcc926002a904be197e63dfe78d678d7": {
          "model_module": "@jupyter-widgets/base",
          "model_name": "LayoutModel",
          "model_module_version": "1.2.0",
          "state": {
            "_model_module": "@jupyter-widgets/base",
            "_model_module_version": "1.2.0",
            "_model_name": "LayoutModel",
            "_view_count": null,
            "_view_module": "@jupyter-widgets/base",
            "_view_module_version": "1.2.0",
            "_view_name": "LayoutView",
            "align_content": null,
            "align_items": null,
            "align_self": null,
            "border": null,
            "bottom": null,
            "display": null,
            "flex": null,
            "flex_flow": null,
            "grid_area": null,
            "grid_auto_columns": null,
            "grid_auto_flow": null,
            "grid_auto_rows": null,
            "grid_column": null,
            "grid_gap": null,
            "grid_row": null,
            "grid_template_areas": null,
            "grid_template_columns": null,
            "grid_template_rows": null,
            "height": null,
            "justify_content": null,
            "justify_items": null,
            "left": null,
            "margin": null,
            "max_height": null,
            "max_width": null,
            "min_height": null,
            "min_width": null,
            "object_fit": null,
            "object_position": null,
            "order": null,
            "overflow": null,
            "overflow_x": null,
            "overflow_y": null,
            "padding": null,
            "right": null,
            "top": null,
            "visibility": null,
            "width": null
          }
        },
        "c983d5bc32db4c5aa8064eb699ebd487": {
          "model_module": "@jupyter-widgets/controls",
          "model_name": "DescriptionStyleModel",
          "model_module_version": "1.5.0",
          "state": {
            "_model_module": "@jupyter-widgets/controls",
            "_model_module_version": "1.5.0",
            "_model_name": "DescriptionStyleModel",
            "_view_count": null,
            "_view_module": "@jupyter-widgets/base",
            "_view_module_version": "1.2.0",
            "_view_name": "StyleView",
            "description_width": ""
          }
        },
        "19fa6797976f4c438dbee49b45d441b7": {
          "model_module": "@jupyter-widgets/base",
          "model_name": "LayoutModel",
          "model_module_version": "1.2.0",
          "state": {
            "_model_module": "@jupyter-widgets/base",
            "_model_module_version": "1.2.0",
            "_model_name": "LayoutModel",
            "_view_count": null,
            "_view_module": "@jupyter-widgets/base",
            "_view_module_version": "1.2.0",
            "_view_name": "LayoutView",
            "align_content": null,
            "align_items": null,
            "align_self": null,
            "border": null,
            "bottom": null,
            "display": null,
            "flex": null,
            "flex_flow": null,
            "grid_area": null,
            "grid_auto_columns": null,
            "grid_auto_flow": null,
            "grid_auto_rows": null,
            "grid_column": null,
            "grid_gap": null,
            "grid_row": null,
            "grid_template_areas": null,
            "grid_template_columns": null,
            "grid_template_rows": null,
            "height": null,
            "justify_content": null,
            "justify_items": null,
            "left": null,
            "margin": null,
            "max_height": null,
            "max_width": null,
            "min_height": null,
            "min_width": null,
            "object_fit": null,
            "object_position": null,
            "order": null,
            "overflow": null,
            "overflow_x": null,
            "overflow_y": null,
            "padding": null,
            "right": null,
            "top": null,
            "visibility": null,
            "width": null
          }
        },
        "d8392bdbb53b48b3b20b2c2006fe52d5": {
          "model_module": "@jupyter-widgets/controls",
          "model_name": "ProgressStyleModel",
          "model_module_version": "1.5.0",
          "state": {
            "_model_module": "@jupyter-widgets/controls",
            "_model_module_version": "1.5.0",
            "_model_name": "ProgressStyleModel",
            "_view_count": null,
            "_view_module": "@jupyter-widgets/base",
            "_view_module_version": "1.2.0",
            "_view_name": "StyleView",
            "bar_color": null,
            "description_width": ""
          }
        },
        "646e53ee58ee46ac8a44db1b9412881f": {
          "model_module": "@jupyter-widgets/base",
          "model_name": "LayoutModel",
          "model_module_version": "1.2.0",
          "state": {
            "_model_module": "@jupyter-widgets/base",
            "_model_module_version": "1.2.0",
            "_model_name": "LayoutModel",
            "_view_count": null,
            "_view_module": "@jupyter-widgets/base",
            "_view_module_version": "1.2.0",
            "_view_name": "LayoutView",
            "align_content": null,
            "align_items": null,
            "align_self": null,
            "border": null,
            "bottom": null,
            "display": null,
            "flex": null,
            "flex_flow": null,
            "grid_area": null,
            "grid_auto_columns": null,
            "grid_auto_flow": null,
            "grid_auto_rows": null,
            "grid_column": null,
            "grid_gap": null,
            "grid_row": null,
            "grid_template_areas": null,
            "grid_template_columns": null,
            "grid_template_rows": null,
            "height": null,
            "justify_content": null,
            "justify_items": null,
            "left": null,
            "margin": null,
            "max_height": null,
            "max_width": null,
            "min_height": null,
            "min_width": null,
            "object_fit": null,
            "object_position": null,
            "order": null,
            "overflow": null,
            "overflow_x": null,
            "overflow_y": null,
            "padding": null,
            "right": null,
            "top": null,
            "visibility": null,
            "width": null
          }
        },
        "754f289a4f264c70891f651eed6b7a6c": {
          "model_module": "@jupyter-widgets/controls",
          "model_name": "DescriptionStyleModel",
          "model_module_version": "1.5.0",
          "state": {
            "_model_module": "@jupyter-widgets/controls",
            "_model_module_version": "1.5.0",
            "_model_name": "DescriptionStyleModel",
            "_view_count": null,
            "_view_module": "@jupyter-widgets/base",
            "_view_module_version": "1.2.0",
            "_view_name": "StyleView",
            "description_width": ""
          }
        },
        "241b2c0578fb4a43b3ea05cd39747cb8": {
          "model_module": "@jupyter-widgets/controls",
          "model_name": "HBoxModel",
          "model_module_version": "1.5.0",
          "state": {
            "_dom_classes": [],
            "_model_module": "@jupyter-widgets/controls",
            "_model_module_version": "1.5.0",
            "_model_name": "HBoxModel",
            "_view_count": null,
            "_view_module": "@jupyter-widgets/controls",
            "_view_module_version": "1.5.0",
            "_view_name": "HBoxView",
            "box_style": "",
            "children": [
              "IPY_MODEL_bf8f8a3308e44d41800ad100f75d6311",
              "IPY_MODEL_4abd1ebda9954feea53354f81ee77e43",
              "IPY_MODEL_cd5e09aaf1a54e219f45b7e00f272208"
            ],
            "layout": "IPY_MODEL_25b4830184464178b68251c0214035fc"
          }
        },
        "bf8f8a3308e44d41800ad100f75d6311": {
          "model_module": "@jupyter-widgets/controls",
          "model_name": "HTMLModel",
          "model_module_version": "1.5.0",
          "state": {
            "_dom_classes": [],
            "_model_module": "@jupyter-widgets/controls",
            "_model_module_version": "1.5.0",
            "_model_name": "HTMLModel",
            "_view_count": null,
            "_view_module": "@jupyter-widgets/controls",
            "_view_module_version": "1.5.0",
            "_view_name": "HTMLView",
            "description": "",
            "description_tooltip": null,
            "layout": "IPY_MODEL_fd21e5b3bac148459a487b1aebbb4839",
            "placeholder": "​",
            "style": "IPY_MODEL_ad55552875d244cc8f859a6830f294a1",
            "value": "100%"
          }
        },
        "4abd1ebda9954feea53354f81ee77e43": {
          "model_module": "@jupyter-widgets/controls",
          "model_name": "FloatProgressModel",
          "model_module_version": "1.5.0",
          "state": {
            "_dom_classes": [],
            "_model_module": "@jupyter-widgets/controls",
            "_model_module_version": "1.5.0",
            "_model_name": "FloatProgressModel",
            "_view_count": null,
            "_view_module": "@jupyter-widgets/controls",
            "_view_module_version": "1.5.0",
            "_view_name": "ProgressView",
            "bar_style": "success",
            "description": "",
            "description_tooltip": null,
            "layout": "IPY_MODEL_388b0b3a40b34ec8874557217cb035d4",
            "max": 4542,
            "min": 0,
            "orientation": "horizontal",
            "style": "IPY_MODEL_2dff82739ad74b858de213c9f5818a88",
            "value": 4542
          }
        },
        "cd5e09aaf1a54e219f45b7e00f272208": {
          "model_module": "@jupyter-widgets/controls",
          "model_name": "HTMLModel",
          "model_module_version": "1.5.0",
          "state": {
            "_dom_classes": [],
            "_model_module": "@jupyter-widgets/controls",
            "_model_module_version": "1.5.0",
            "_model_name": "HTMLModel",
            "_view_count": null,
            "_view_module": "@jupyter-widgets/controls",
            "_view_module_version": "1.5.0",
            "_view_name": "HTMLView",
            "description": "",
            "description_tooltip": null,
            "layout": "IPY_MODEL_a03851f5465a420d9bcc7258eff2cb6e",
            "placeholder": "​",
            "style": "IPY_MODEL_197213b426184b1a9a527744626ebde6",
            "value": " 4542/4542 [00:00&lt;00:00, 34839.97it/s]"
          }
        },
        "25b4830184464178b68251c0214035fc": {
          "model_module": "@jupyter-widgets/base",
          "model_name": "LayoutModel",
          "model_module_version": "1.2.0",
          "state": {
            "_model_module": "@jupyter-widgets/base",
            "_model_module_version": "1.2.0",
            "_model_name": "LayoutModel",
            "_view_count": null,
            "_view_module": "@jupyter-widgets/base",
            "_view_module_version": "1.2.0",
            "_view_name": "LayoutView",
            "align_content": null,
            "align_items": null,
            "align_self": null,
            "border": null,
            "bottom": null,
            "display": null,
            "flex": null,
            "flex_flow": null,
            "grid_area": null,
            "grid_auto_columns": null,
            "grid_auto_flow": null,
            "grid_auto_rows": null,
            "grid_column": null,
            "grid_gap": null,
            "grid_row": null,
            "grid_template_areas": null,
            "grid_template_columns": null,
            "grid_template_rows": null,
            "height": null,
            "justify_content": null,
            "justify_items": null,
            "left": null,
            "margin": null,
            "max_height": null,
            "max_width": null,
            "min_height": null,
            "min_width": null,
            "object_fit": null,
            "object_position": null,
            "order": null,
            "overflow": null,
            "overflow_x": null,
            "overflow_y": null,
            "padding": null,
            "right": null,
            "top": null,
            "visibility": null,
            "width": null
          }
        },
        "fd21e5b3bac148459a487b1aebbb4839": {
          "model_module": "@jupyter-widgets/base",
          "model_name": "LayoutModel",
          "model_module_version": "1.2.0",
          "state": {
            "_model_module": "@jupyter-widgets/base",
            "_model_module_version": "1.2.0",
            "_model_name": "LayoutModel",
            "_view_count": null,
            "_view_module": "@jupyter-widgets/base",
            "_view_module_version": "1.2.0",
            "_view_name": "LayoutView",
            "align_content": null,
            "align_items": null,
            "align_self": null,
            "border": null,
            "bottom": null,
            "display": null,
            "flex": null,
            "flex_flow": null,
            "grid_area": null,
            "grid_auto_columns": null,
            "grid_auto_flow": null,
            "grid_auto_rows": null,
            "grid_column": null,
            "grid_gap": null,
            "grid_row": null,
            "grid_template_areas": null,
            "grid_template_columns": null,
            "grid_template_rows": null,
            "height": null,
            "justify_content": null,
            "justify_items": null,
            "left": null,
            "margin": null,
            "max_height": null,
            "max_width": null,
            "min_height": null,
            "min_width": null,
            "object_fit": null,
            "object_position": null,
            "order": null,
            "overflow": null,
            "overflow_x": null,
            "overflow_y": null,
            "padding": null,
            "right": null,
            "top": null,
            "visibility": null,
            "width": null
          }
        },
        "ad55552875d244cc8f859a6830f294a1": {
          "model_module": "@jupyter-widgets/controls",
          "model_name": "DescriptionStyleModel",
          "model_module_version": "1.5.0",
          "state": {
            "_model_module": "@jupyter-widgets/controls",
            "_model_module_version": "1.5.0",
            "_model_name": "DescriptionStyleModel",
            "_view_count": null,
            "_view_module": "@jupyter-widgets/base",
            "_view_module_version": "1.2.0",
            "_view_name": "StyleView",
            "description_width": ""
          }
        },
        "388b0b3a40b34ec8874557217cb035d4": {
          "model_module": "@jupyter-widgets/base",
          "model_name": "LayoutModel",
          "model_module_version": "1.2.0",
          "state": {
            "_model_module": "@jupyter-widgets/base",
            "_model_module_version": "1.2.0",
            "_model_name": "LayoutModel",
            "_view_count": null,
            "_view_module": "@jupyter-widgets/base",
            "_view_module_version": "1.2.0",
            "_view_name": "LayoutView",
            "align_content": null,
            "align_items": null,
            "align_self": null,
            "border": null,
            "bottom": null,
            "display": null,
            "flex": null,
            "flex_flow": null,
            "grid_area": null,
            "grid_auto_columns": null,
            "grid_auto_flow": null,
            "grid_auto_rows": null,
            "grid_column": null,
            "grid_gap": null,
            "grid_row": null,
            "grid_template_areas": null,
            "grid_template_columns": null,
            "grid_template_rows": null,
            "height": null,
            "justify_content": null,
            "justify_items": null,
            "left": null,
            "margin": null,
            "max_height": null,
            "max_width": null,
            "min_height": null,
            "min_width": null,
            "object_fit": null,
            "object_position": null,
            "order": null,
            "overflow": null,
            "overflow_x": null,
            "overflow_y": null,
            "padding": null,
            "right": null,
            "top": null,
            "visibility": null,
            "width": null
          }
        },
        "2dff82739ad74b858de213c9f5818a88": {
          "model_module": "@jupyter-widgets/controls",
          "model_name": "ProgressStyleModel",
          "model_module_version": "1.5.0",
          "state": {
            "_model_module": "@jupyter-widgets/controls",
            "_model_module_version": "1.5.0",
            "_model_name": "ProgressStyleModel",
            "_view_count": null,
            "_view_module": "@jupyter-widgets/base",
            "_view_module_version": "1.2.0",
            "_view_name": "StyleView",
            "bar_color": null,
            "description_width": ""
          }
        },
        "a03851f5465a420d9bcc7258eff2cb6e": {
          "model_module": "@jupyter-widgets/base",
          "model_name": "LayoutModel",
          "model_module_version": "1.2.0",
          "state": {
            "_model_module": "@jupyter-widgets/base",
            "_model_module_version": "1.2.0",
            "_model_name": "LayoutModel",
            "_view_count": null,
            "_view_module": "@jupyter-widgets/base",
            "_view_module_version": "1.2.0",
            "_view_name": "LayoutView",
            "align_content": null,
            "align_items": null,
            "align_self": null,
            "border": null,
            "bottom": null,
            "display": null,
            "flex": null,
            "flex_flow": null,
            "grid_area": null,
            "grid_auto_columns": null,
            "grid_auto_flow": null,
            "grid_auto_rows": null,
            "grid_column": null,
            "grid_gap": null,
            "grid_row": null,
            "grid_template_areas": null,
            "grid_template_columns": null,
            "grid_template_rows": null,
            "height": null,
            "justify_content": null,
            "justify_items": null,
            "left": null,
            "margin": null,
            "max_height": null,
            "max_width": null,
            "min_height": null,
            "min_width": null,
            "object_fit": null,
            "object_position": null,
            "order": null,
            "overflow": null,
            "overflow_x": null,
            "overflow_y": null,
            "padding": null,
            "right": null,
            "top": null,
            "visibility": null,
            "width": null
          }
        },
        "197213b426184b1a9a527744626ebde6": {
          "model_module": "@jupyter-widgets/controls",
          "model_name": "DescriptionStyleModel",
          "model_module_version": "1.5.0",
          "state": {
            "_model_module": "@jupyter-widgets/controls",
            "_model_module_version": "1.5.0",
            "_model_name": "DescriptionStyleModel",
            "_view_count": null,
            "_view_module": "@jupyter-widgets/base",
            "_view_module_version": "1.2.0",
            "_view_name": "StyleView",
            "description_width": ""
          }
        }
      }
    }
  },
  "cells": [
    {
      "cell_type": "markdown",
      "source": [
        "# Carregar as bibliotecas"
      ],
      "metadata": {
        "id": "9mu-jMnwKQAw"
      }
    },
    {
      "cell_type": "code",
      "source": [
        "import numpy as np\n",
        "from skimage import io, data, filters, util, color, transform, exposure, measure\n",
        "from skimage.util import img_as_float, img_as_uint, img_as_ubyte\n",
        "import matplotlib.pyplot as plt\n",
        "from sklearn import preprocessing, metrics, svm\n",
        "from sklearn.model_selection import train_test_split\n",
        "np.seterr(divide='ignore', invalid='ignore')"
      ],
      "metadata": {
        "id": "m_6GWwLkKbd-",
        "colab": {
          "base_uri": "https://localhost:8080/"
        },
        "outputId": "b2e8068a-2014-45ef-a754-597e3dd18f40"
      },
      "execution_count": 1,
      "outputs": [
        {
          "output_type": "execute_result",
          "data": {
            "text/plain": [
              "{'divide': 'warn', 'over': 'warn', 'under': 'ignore', 'invalid': 'warn'}"
            ]
          },
          "metadata": {},
          "execution_count": 1
        }
      ]
    },
    {
      "cell_type": "code",
      "source": [
        "import torch\n",
        "import torch.nn as nn\n",
        "import torchvision\n",
        "import torchvision.transforms as transforms\n",
        "from datetime import datetime\n",
        "from torchvision import datasets"
      ],
      "metadata": {
        "id": "HifLHE_rzlTo"
      },
      "execution_count": 2,
      "outputs": []
    },
    {
      "cell_type": "markdown",
      "source": [
        "## Carregar base MNIST para classificar usando Rede Neural"
      ],
      "metadata": {
        "id": "sHRypX4rNziJ"
      }
    },
    {
      "cell_type": "code",
      "source": [
        "train_dataset = torchvision.datasets.MNIST(\n",
        "    root='.',\n",
        "    train=True,\n",
        "    transform=transforms.ToTensor(),\n",
        "    download=True\n",
        ")"
      ],
      "metadata": {
        "id": "ThtCgJ209jQF",
        "colab": {
          "base_uri": "https://localhost:8080/",
          "height": 423,
          "referenced_widgets": [
            "028d7fefb3af432a9018d9100c3d48fa",
            "6561f0a7d1124832ac71b5dd05da3206",
            "5045da5e1b934b1a8546b1dde7eec881",
            "8434789066344ea5bf50f591e208c46a",
            "84eb285402924f2487368f6a862daaba",
            "4576fd3d12e4472e9e0ac13630189d69",
            "6d52ff469cdd4f2197c576fb662e623f",
            "300a0050d874464d86d3a94514bfaec7",
            "a06378b27d7442ec8126f60260b2da87",
            "6c326f4dcbcf48ce9db0a56b67605470",
            "51b6306c7c324809ae05e1c62ff1f667",
            "a7f5617216a64545a0817cb233a9939d",
            "9c13bead935347389a7a65906de762c9",
            "7321f7eda6a64345a7328661c9b7c590",
            "b2f14c9bc5ae4aa3accd525d7179daff",
            "4a4650e32c1f4f84b0f70b18f0aabe65",
            "dbb939fe40a2479a863222bef3750623",
            "43fe845492484237b1b0437cd1c64ba3",
            "5c4b4684c95c4da7a6c6f45931cc0811",
            "70b81590dd1345f894e68e2ddc925243",
            "eb434b2b71a64e538b063bfc98bfc0ef",
            "b4c6ccb318634e56af920e6ea30b8d96",
            "1cbaa63207b14be8a9ff76018d350dc4",
            "e849c344a17f4ec0b8bbe81658985992",
            "38f40326056c454c920d4ed5fac0c1ea",
            "44bd722789894437badd5fbf1d5a879b",
            "0b34ff22a815410ab0f4fd0d09a7a189",
            "fcc926002a904be197e63dfe78d678d7",
            "c983d5bc32db4c5aa8064eb699ebd487",
            "19fa6797976f4c438dbee49b45d441b7",
            "d8392bdbb53b48b3b20b2c2006fe52d5",
            "646e53ee58ee46ac8a44db1b9412881f",
            "754f289a4f264c70891f651eed6b7a6c",
            "241b2c0578fb4a43b3ea05cd39747cb8",
            "bf8f8a3308e44d41800ad100f75d6311",
            "4abd1ebda9954feea53354f81ee77e43",
            "cd5e09aaf1a54e219f45b7e00f272208",
            "25b4830184464178b68251c0214035fc",
            "fd21e5b3bac148459a487b1aebbb4839",
            "ad55552875d244cc8f859a6830f294a1",
            "388b0b3a40b34ec8874557217cb035d4",
            "2dff82739ad74b858de213c9f5818a88",
            "a03851f5465a420d9bcc7258eff2cb6e",
            "197213b426184b1a9a527744626ebde6"
          ]
        },
        "outputId": "5776fddd-fd30-47fd-b698-7d2124383ce6"
      },
      "execution_count": 3,
      "outputs": [
        {
          "output_type": "stream",
          "name": "stdout",
          "text": [
            "Downloading http://yann.lecun.com/exdb/mnist/train-images-idx3-ubyte.gz\n",
            "Downloading http://yann.lecun.com/exdb/mnist/train-images-idx3-ubyte.gz to ./MNIST/raw/train-images-idx3-ubyte.gz\n"
          ]
        },
        {
          "output_type": "display_data",
          "data": {
            "text/plain": [
              "  0%|          | 0/9912422 [00:00<?, ?it/s]"
            ],
            "application/vnd.jupyter.widget-view+json": {
              "version_major": 2,
              "version_minor": 0,
              "model_id": "028d7fefb3af432a9018d9100c3d48fa"
            }
          },
          "metadata": {}
        },
        {
          "output_type": "stream",
          "name": "stdout",
          "text": [
            "Extracting ./MNIST/raw/train-images-idx3-ubyte.gz to ./MNIST/raw\n",
            "\n",
            "Downloading http://yann.lecun.com/exdb/mnist/train-labels-idx1-ubyte.gz\n",
            "Downloading http://yann.lecun.com/exdb/mnist/train-labels-idx1-ubyte.gz to ./MNIST/raw/train-labels-idx1-ubyte.gz\n"
          ]
        },
        {
          "output_type": "display_data",
          "data": {
            "text/plain": [
              "  0%|          | 0/28881 [00:00<?, ?it/s]"
            ],
            "application/vnd.jupyter.widget-view+json": {
              "version_major": 2,
              "version_minor": 0,
              "model_id": "a7f5617216a64545a0817cb233a9939d"
            }
          },
          "metadata": {}
        },
        {
          "output_type": "stream",
          "name": "stdout",
          "text": [
            "Extracting ./MNIST/raw/train-labels-idx1-ubyte.gz to ./MNIST/raw\n",
            "\n",
            "Downloading http://yann.lecun.com/exdb/mnist/t10k-images-idx3-ubyte.gz\n",
            "Downloading http://yann.lecun.com/exdb/mnist/t10k-images-idx3-ubyte.gz to ./MNIST/raw/t10k-images-idx3-ubyte.gz\n"
          ]
        },
        {
          "output_type": "display_data",
          "data": {
            "text/plain": [
              "  0%|          | 0/1648877 [00:00<?, ?it/s]"
            ],
            "application/vnd.jupyter.widget-view+json": {
              "version_major": 2,
              "version_minor": 0,
              "model_id": "1cbaa63207b14be8a9ff76018d350dc4"
            }
          },
          "metadata": {}
        },
        {
          "output_type": "stream",
          "name": "stdout",
          "text": [
            "Extracting ./MNIST/raw/t10k-images-idx3-ubyte.gz to ./MNIST/raw\n",
            "\n",
            "Downloading http://yann.lecun.com/exdb/mnist/t10k-labels-idx1-ubyte.gz\n",
            "Downloading http://yann.lecun.com/exdb/mnist/t10k-labels-idx1-ubyte.gz to ./MNIST/raw/t10k-labels-idx1-ubyte.gz\n"
          ]
        },
        {
          "output_type": "display_data",
          "data": {
            "text/plain": [
              "  0%|          | 0/4542 [00:00<?, ?it/s]"
            ],
            "application/vnd.jupyter.widget-view+json": {
              "version_major": 2,
              "version_minor": 0,
              "model_id": "241b2c0578fb4a43b3ea05cd39747cb8"
            }
          },
          "metadata": {}
        },
        {
          "output_type": "stream",
          "name": "stdout",
          "text": [
            "Extracting ./MNIST/raw/t10k-labels-idx1-ubyte.gz to ./MNIST/raw\n",
            "\n"
          ]
        }
      ]
    },
    {
      "cell_type": "code",
      "source": [
        "test_dataset = torchvision.datasets.MNIST(\n",
        "    root='.',\n",
        "    train=False,\n",
        "    transform = transforms.ToTensor(),\n",
        "    download=True\n",
        ")"
      ],
      "metadata": {
        "id": "arg8mT5E9waG"
      },
      "execution_count": 4,
      "outputs": []
    },
    {
      "cell_type": "code",
      "source": [
        "print(test_dataset)"
      ],
      "metadata": {
        "colab": {
          "base_uri": "https://localhost:8080/"
        },
        "id": "59a7fxQy993X",
        "outputId": "5de453fb-ec47-4d0d-a015-c8735aedddb6"
      },
      "execution_count": 5,
      "outputs": [
        {
          "output_type": "stream",
          "name": "stdout",
          "text": [
            "Dataset MNIST\n",
            "    Number of datapoints: 10000\n",
            "    Root location: .\n",
            "    Split: Test\n",
            "    StandardTransform\n",
            "Transform: ToTensor()\n"
          ]
        }
      ]
    },
    {
      "cell_type": "markdown",
      "source": [
        "## Classificando usanda uma RNA"
      ],
      "metadata": {
        "id": "pH_AnDIPU-Ur"
      }
    },
    {
      "cell_type": "code",
      "source": [
        "# Definição da rede\n",
        "model = nn.Sequential(\n",
        "    nn.Linear(in_features=784, out_features=128), # Capa Fully Connected\n",
        "    nn.ReLU(), # Função de ativação ReLU\n",
        "    nn.Linear(in_features=128,out_features=10) # Capa Fully Connected\n",
        ")\n",
        "# nao é necessário uma função softmax no final devido à função Loss utilizada"
      ],
      "metadata": {
        "id": "b9BL2JRPITD8"
      },
      "execution_count": 6,
      "outputs": []
    },
    {
      "cell_type": "markdown",
      "source": [
        "### Verifica disponibilidade de GPU, se tiver, o modelo é enviado à GPU"
      ],
      "metadata": {
        "id": "SS4jItpXV22q"
      }
    },
    {
      "cell_type": "code",
      "source": [
        "device = torch.device(\"cuda:0\" if torch.cuda.is_available() else \"cpu\")\n",
        "print(device)\n",
        "model.to(device)"
      ],
      "metadata": {
        "colab": {
          "base_uri": "https://localhost:8080/"
        },
        "id": "_Rji22n-hz2K",
        "outputId": "7c24fed9-91c1-49b8-be81-4690073ba575"
      },
      "execution_count": 7,
      "outputs": [
        {
          "output_type": "stream",
          "name": "stdout",
          "text": [
            "cpu\n"
          ]
        },
        {
          "output_type": "execute_result",
          "data": {
            "text/plain": [
              "Sequential(\n",
              "  (0): Linear(in_features=784, out_features=128, bias=True)\n",
              "  (1): ReLU()\n",
              "  (2): Linear(in_features=128, out_features=10, bias=True)\n",
              ")"
            ]
          },
          "metadata": {},
          "execution_count": 7
        }
      ]
    },
    {
      "cell_type": "markdown",
      "source": [
        "### Definição da função de perda (*Loss function*) e da função de otimização para minimização do erro"
      ],
      "metadata": {
        "id": "5yNLbOiKWPNY"
      }
    },
    {
      "cell_type": "code",
      "source": [
        "# Loss para varias classes\n",
        "criterion = nn.CrossEntropyLoss()\n",
        "# Optimizer\n",
        "optimizer = torch.optim.Adagrad( model.parameters() )"
      ],
      "metadata": {
        "id": "dcaQm4QUvIZa"
      },
      "execution_count": 8,
      "outputs": []
    },
    {
      "cell_type": "markdown",
      "source": [
        "## Datalaloader usada para criar batches durante o treino"
      ],
      "metadata": {
        "id": "Dq9jCOHXWgfV"
      }
    },
    {
      "cell_type": "code",
      "source": [
        "# Data loader\n",
        "# Util pq cria automáticamente batches durante o treino\n",
        "# além de embaralhar os dados\n",
        "batch_size = 128\n",
        "train_loader = torch.utils.data.DataLoader(dataset = train_dataset,\n",
        "    batch_size = batch_size,\n",
        "    shuffle = True) \n",
        "test_loader = torch.utils.data.DataLoader(dataset = test_dataset,\n",
        "    batch_size = batch_size,\n",
        "    shuffle = False) "
      ],
      "metadata": {
        "id": "FUlW3-m5h4OK"
      },
      "execution_count": 9,
      "outputs": []
    },
    {
      "cell_type": "code",
      "source": [
        "# verificação do funcionamento do dataloader\n",
        "for x, y in train_loader:\n",
        "    print(f'batch de dados: {x.shape}')\n",
        "    print(f'batch de etiquetas: {y.shape}')\n",
        "    f, (ax1, ax2) = plt.subplots(1, 2, sharey=True)\n",
        "#    ax1.imshow(np.transpose(x[0].numpy(), (1,2,0)), cmap = 'gray')\n",
        "#    ax2.imshow(np.transpose(x[0].numpy(), (1,2,0)), cmap = 'gray')\n",
        "    ax1.imshow(x[0].numpy()[-1,:,:], cmap = 'gray')\n",
        "    ax2.imshow(x[1].numpy()[-1,:,:], cmap = 'gray')\n",
        "    break\n"
      ],
      "metadata": {
        "colab": {
          "base_uri": "https://localhost:8080/",
          "height": 236
        },
        "id": "s-V8r2EbXax0",
        "outputId": "3b182633-5caf-4224-91ba-a4454f65343a"
      },
      "execution_count": 10,
      "outputs": [
        {
          "output_type": "stream",
          "name": "stdout",
          "text": [
            "batch de dados: torch.Size([128, 1, 28, 28])\n",
            "batch de etiquetas: torch.Size([128])\n"
          ]
        },
        {
          "output_type": "display_data",
          "data": {
            "text/plain": [
              "<Figure size 432x288 with 2 Axes>"
            ],
            "image/png": "[encoded data removed]"
          },
          "metadata": {
            "needs_background": "light"
          }
        }
      ]
    },
    {
      "cell_type": "markdown",
      "source": [
        "## Treino"
      ],
      "metadata": {
        "id": "-iM1HItOXdeZ"
      }
    },
    {
      "cell_type": "code",
      "source": [
        "def fit(model, criterion, optimizer, train_loader, test_loader, n_epochs=10):\n",
        "  # salva o Loss do treino e o teste em cada época\n",
        "  train_losses = np.zeros(n_epochs)\n",
        "  test_losses = np.zeros(n_epochs)\n",
        "\n",
        "  # itera por cada época\n",
        "  for it in range(n_epochs):\n",
        "\n",
        "      train_loss = []\n",
        "      # carregar batch de dados e de etiquetas do treino\n",
        "      for inputs, targets in train_loader:\n",
        "          # mover os dados para o GPU ou CPU\n",
        "          inputs, targets = inputs.to(device), targets.to(device)\n",
        "\n",
        "          # modificar a dimensão de batch X height X width X channel   ->    batch x (height*width*channel)\n",
        "          #                          128 x 28 x 28 x 1                 ->     128 x (28*28*1)\n",
        "          inputs = inputs.view(-1, 784)\n",
        "          # zerar os gradientes\n",
        "          optimizer.zero_grad()\n",
        "\n",
        "          # forward pass\n",
        "          outputs = model(inputs)\n",
        "          loss = criterion(outputs, targets)\n",
        "\n",
        "          # backward pass e optimização para minimizar o erro\n",
        "          loss.backward()\n",
        "          optimizer.step()\n",
        "\n",
        "          # salva o erro do treino em cada batch\n",
        "          train_loss.append( loss.item() )\n",
        "\n",
        "      # calcula a média de erros de todos os batches para calcular o erro do treino por época\n",
        "      train_loss = np.mean(train_loss)\n",
        "\n",
        "      test_loss = []\n",
        "      # carregar batch de dados e de etiquetas da validação\n",
        "      for inputs, targets in test_loader:\n",
        "          # mover os dados para o GPU\n",
        "          inputs, targets = inputs.to(device), targets.to(device)\n",
        "\n",
        "          # modificar a dimensão \n",
        "          inputs = inputs.view(-1, 784)\n",
        "\n",
        "          # forward pass\n",
        "          outputs = model(inputs)\n",
        "          loss = criterion(outputs, targets)\n",
        "          \n",
        "          # não é incluido o backward pass e a optimização porque avalia a aprendizagem\n",
        "\n",
        "          # salva o erro do treino em cada batch\n",
        "          test_loss.append(loss.item())\n",
        "\n",
        "      # calcula a média de erros de todos os batches para calcular o erro da validação por época\n",
        "      test_loss = np.mean(test_loss)\n",
        "\n",
        "      # salvar losses de treino e validação nos vetores\n",
        "      train_losses[it] = train_loss\n",
        "      test_losses[it] = test_loss\n",
        "\n",
        "      \n",
        "      print(f'Epoch {it+1}/{n_epochs} Train Loss: {train_loss.item():.4f} Test Loss: {test_loss.item()}')\n",
        "  return train_loss, test_loss\n"
      ],
      "metadata": {
        "id": "9ONge9dfYiIZ"
      },
      "execution_count": 11,
      "outputs": []
    },
    {
      "cell_type": "code",
      "source": [
        "train_losses, test_losses = fit(model, criterion, optimizer, train_loader, test_loader, n_epochs = 10)\n",
        "\n"
      ],
      "metadata": {
        "colab": {
          "base_uri": "https://localhost:8080/"
        },
        "id": "9t7pgZLJYMzi",
        "outputId": "518ad72f-d89c-4deb-9e41-e36dcb338253"
      },
      "execution_count": 12,
      "outputs": [
        {
          "output_type": "stream",
          "name": "stdout",
          "text": [
            "Epoch 1/10 Train Loss: 0.3325 Test Loss: 0.2336604998128701\n",
            "Epoch 2/10 Train Loss: 0.2120 Test Loss: 0.18957116099994017\n",
            "Epoch 3/10 Train Loss: 0.1802 Test Loss: 0.16970497323789552\n",
            "Epoch 4/10 Train Loss: 0.1605 Test Loss: 0.15454166448568996\n",
            "Epoch 5/10 Train Loss: 0.1467 Test Loss: 0.14206893775093404\n",
            "Epoch 6/10 Train Loss: 0.1359 Test Loss: 0.13572999251169401\n",
            "Epoch 7/10 Train Loss: 0.1269 Test Loss: 0.12887925980907358\n",
            "Epoch 8/10 Train Loss: 0.1197 Test Loss: 0.12467282954190823\n",
            "Epoch 9/10 Train Loss: 0.1134 Test Loss: 0.1188631377896129\n",
            "Epoch 10/10 Train Loss: 0.1081 Test Loss: 0.11552904597247797\n"
          ]
        }
      ]
    },
    {
      "cell_type": "code",
      "source": [
        "plt.plot(train_losses, label = 'train loss')\n",
        "plt.plot(test_losses, label = 'test loss')\n",
        "plt.legend()\n",
        "plt.show()"
      ],
      "metadata": {
        "colab": {
          "base_uri": "https://localhost:8080/",
          "height": 265
        },
        "id": "d3R4-BH7epAT",
        "outputId": "877a9293-cef2-4292-ea04-73ced49e217e"
      },
      "execution_count": 13,
      "outputs": [
        {
          "output_type": "display_data",
          "data": {
            "text/plain": [
              "<Figure size 432x288 with 1 Axes>"
            ],
            "image/png": "[encoded data removed]"
          },
          "metadata": {
            "needs_background": "light"
          }
        }
      ]
    },
    {
      "cell_type": "markdown",
      "source": [
        "## Gerando todas as etiquetas do conjunto de teste"
      ],
      "metadata": {
        "id": "0vQFInGoXk22"
      }
    },
    {
      "cell_type": "code",
      "source": [
        "def predict_module(model, data_loader):\n",
        "  model.eval()\n",
        "  predicted = np.empty((0), int)\n",
        "  true_labels = np.empty((0), int)\n",
        "  for inputs, targets in data_loader:\n",
        "      # mover os dados para o GPU\n",
        "      inputs, targets = inputs.to(device), targets.to(device)\n",
        "\n",
        "      # modificar a dimensão \n",
        "      inputs = inputs.view(-1, 784)\n",
        "\n",
        "      # \n",
        "      outputs = model(inputs)\n",
        "\n",
        "      # obter a predição\n",
        "      _, predictions = torch.max(outputs, 1)\n",
        "\n",
        "      predicted = np.append(predicted, predictions)\n",
        "      true_labels = np.append(true_labels, targets)\n",
        "\n",
        "  return predicted, true_labels"
      ],
      "metadata": {
        "id": "kMqSd6rZfIN-"
      },
      "execution_count": 14,
      "outputs": []
    },
    {
      "cell_type": "code",
      "source": [
        "predicted, true_labels = predict_module(model, test_loader)"
      ],
      "metadata": {
        "id": "G10QyxZ6cluz"
      },
      "execution_count": 15,
      "outputs": []
    },
    {
      "cell_type": "markdown",
      "source": [
        "## Matriz de confusão"
      ],
      "metadata": {
        "id": "fk4M4DxKX48u"
      }
    },
    {
      "cell_type": "code",
      "source": [
        "def matriz_confusao(true_labels, predicted):\n",
        "    m = metrics.confusion_matrix(true_labels, predicted) \n",
        "    tot = np.sum(m, axis=1, keepdims=True) \n",
        "\n",
        "    m_porc = m/tot\n",
        "    m_porc_str = np.array2string(m_porc, formatter={'float_kind':lambda x: \"%.2f\" % x})\n",
        "    print( m_porc_str )\n",
        "\n",
        "    np.set_printoptions(precision=2, suppress = True)\n",
        "    disp = metrics.ConfusionMatrixDisplay(confusion_matrix=m, display_labels=[0,1,2,3,4,5,6,7,8,9])\n",
        "    fig, ax = plt.subplots(figsize=(10,10))\n",
        "    disp.plot(ax=ax)\n",
        "    plt.show()"
      ],
      "metadata": {
        "id": "9JvrwGKOh9ua"
      },
      "execution_count": 16,
      "outputs": []
    },
    {
      "cell_type": "code",
      "source": [
        "matriz_confusao(true_labels, predicted) \n",
        "\n"
      ],
      "metadata": {
        "colab": {
          "base_uri": "https://localhost:8080/",
          "height": 754
        },
        "id": "4S4jA1QzlNeg",
        "outputId": "01f1aaf1-b65f-4bbb-ee23-910c6b86357f"
      },
      "execution_count": 17,
      "outputs": [
        {
          "output_type": "stream",
          "name": "stdout",
          "text": [
            "[[0.98 0.00 0.00 0.00 0.00 0.01 0.01 0.00 0.00 0.00]\n",
            " [0.00 0.98 0.00 0.00 0.00 0.00 0.00 0.00 0.01 0.00]\n",
            " [0.01 0.00 0.96 0.00 0.00 0.00 0.00 0.01 0.01 0.00]\n",
            " [0.00 0.00 0.00 0.97 0.00 0.00 0.00 0.01 0.01 0.00]\n",
            " [0.00 0.00 0.00 0.00 0.97 0.00 0.01 0.00 0.00 0.01]\n",
            " [0.00 0.00 0.00 0.01 0.00 0.96 0.01 0.00 0.01 0.00]\n",
            " [0.01 0.00 0.00 0.00 0.00 0.01 0.97 0.00 0.00 0.00]\n",
            " [0.00 0.01 0.01 0.01 0.00 0.00 0.00 0.96 0.00 0.01]\n",
            " [0.01 0.00 0.00 0.01 0.00 0.00 0.01 0.01 0.95 0.01]\n",
            " [0.00 0.01 0.00 0.01 0.02 0.00 0.00 0.01 0.00 0.95]]\n"
          ]
        },
        {
          "output_type": "display_data",
          "data": {
            "text/plain": [
              "<Figure size 720x720 with 2 Axes>"
            ],
            "image/png": "[encoded data removed]"
          },
          "metadata": {
            "needs_background": "light"
          }
        }
      ]
    },
    {
      "cell_type": "markdown",
      "source": [
        "# Questão 1\n",
        "\n",
        "<p> Modifique o número de camadas da rede </p>"
      ],
      "metadata": {
        "id": "3tdnyE4tX9xE"
      }
    },
    {
      "cell_type": "code",
      "source": [
        "# Definição da rede\n",
        "model_new = nn.Sequential(\n",
        "      nn.Linear(in_features=784, out_features=512), # Capa Fully Connected\n",
        "      nn.ReLU(), # Função de ativação ReLU\n",
        "      nn.Linear(in_features=512,out_features=256), # Capa Fully Connected\n",
        "      nn.ReLU(), # Função de ativação ReLU\n",
        "      nn.Linear(in_features=256,out_features=128), # Capa Fully Connected\n",
        "      nn.ReLU(), # Função de ativação ReLU\n",
        "      nn.Linear(in_features=128,out_features=64), # Capa Fully Connected\n",
        "      nn.ReLU(), # Função de ativação ReLU\n",
        "      nn.Linear(in_features=64,out_features=10) # Capa Fully Connected\n",
        ")\n",
        "# nao é necessário uma função softmax no final devido à função Loss utilizada"
      ],
      "metadata": {
        "id": "n-thMaBhYAuc"
      },
      "execution_count": 18,
      "outputs": []
    },
    {
      "cell_type": "code",
      "source": [
        "device = torch.device(\"cuda:0\" if torch.cuda.is_available() else \"cpu\")\n",
        "print(device)\n",
        "model_new.to(device)"
      ],
      "metadata": {
        "colab": {
          "base_uri": "https://localhost:8080/"
        },
        "id": "Z8sTn9Ewfl77",
        "outputId": "c7a77534-fbd9-4d65-fa8e-b89ce186dee3"
      },
      "execution_count": 19,
      "outputs": [
        {
          "output_type": "stream",
          "name": "stdout",
          "text": [
            "cpu\n"
          ]
        },
        {
          "output_type": "execute_result",
          "data": {
            "text/plain": [
              "Sequential(\n",
              "  (0): Linear(in_features=784, out_features=512, bias=True)\n",
              "  (1): ReLU()\n",
              "  (2): Linear(in_features=512, out_features=256, bias=True)\n",
              "  (3): ReLU()\n",
              "  (4): Linear(in_features=256, out_features=128, bias=True)\n",
              "  (5): ReLU()\n",
              "  (6): Linear(in_features=128, out_features=64, bias=True)\n",
              "  (7): ReLU()\n",
              "  (8): Linear(in_features=64, out_features=10, bias=True)\n",
              ")"
            ]
          },
          "metadata": {},
          "execution_count": 19
        }
      ]
    },
    {
      "cell_type": "code",
      "source": [
        "# Loss para varias classes\n",
        "criterion_new = nn.CrossEntropyLoss()\n",
        "# Optimizer\n",
        "optimizer = torch.optim.Adagrad( model_new.parameters() )"
      ],
      "metadata": {
        "id": "saPKNEUeeWZ4"
      },
      "execution_count": 20,
      "outputs": []
    },
    {
      "cell_type": "code",
      "source": [
        "train_losses, test_losses = fit(model_new, criterion_new, optimizer, train_loader, test_loader, n_epochs = 10)"
      ],
      "metadata": {
        "colab": {
          "base_uri": "https://localhost:8080/"
        },
        "id": "h5mPtMFwdedt",
        "outputId": "c3d55070-38be-4720-b803-e5b31470d73c"
      },
      "execution_count": 21,
      "outputs": [
        {
          "output_type": "stream",
          "name": "stdout",
          "text": [
            "Epoch 1/10 Train Loss: 0.3149 Test Loss: 0.12613967746566934\n",
            "Epoch 2/10 Train Loss: 0.1001 Test Loss: 0.09107146159115047\n",
            "Epoch 3/10 Train Loss: 0.0680 Test Loss: 0.07891037626430698\n",
            "Epoch 4/10 Train Loss: 0.0497 Test Loss: 0.07254331604772117\n",
            "Epoch 5/10 Train Loss: 0.0371 Test Loss: 0.06803859242376624\n",
            "Epoch 6/10 Train Loss: 0.0279 Test Loss: 0.0677013501671918\n",
            "Epoch 7/10 Train Loss: 0.0213 Test Loss: 0.06921937751316294\n",
            "Epoch 8/10 Train Loss: 0.0163 Test Loss: 0.0658035451013785\n",
            "Epoch 9/10 Train Loss: 0.0122 Test Loss: 0.0717273276610815\n",
            "Epoch 10/10 Train Loss: 0.0097 Test Loss: 0.07023366339600688\n"
          ]
        }
      ]
    },
    {
      "cell_type": "code",
      "source": [
        "predicted, true_labels = predict_module(model_new, test_loader)\n",
        "matriz_confusao(true_labels, predicted) "
      ],
      "metadata": {
        "colab": {
          "base_uri": "https://localhost:8080/",
          "height": 754
        },
        "id": "H5-RgmiRhyJC",
        "outputId": "2805be86-7bd1-4e7e-8328-01e931a4bdc6"
      },
      "execution_count": 22,
      "outputs": [
        {
          "output_type": "stream",
          "name": "stdout",
          "text": [
            "[[0.99 0.00 0.00 0.00 0.00 0.00 0.00 0.00 0.00 0.00]\n",
            " [0.00 0.99 0.00 0.00 0.00 0.00 0.00 0.00 0.00 0.00]\n",
            " [0.00 0.00 0.98 0.00 0.00 0.00 0.00 0.00 0.00 0.00]\n",
            " [0.00 0.00 0.00 0.98 0.00 0.00 0.00 0.00 0.00 0.00]\n",
            " [0.00 0.00 0.00 0.00 0.98 0.00 0.00 0.00 0.00 0.01]\n",
            " [0.00 0.00 0.00 0.01 0.00 0.98 0.00 0.00 0.00 0.00]\n",
            " [0.01 0.00 0.00 0.00 0.00 0.01 0.97 0.00 0.00 0.00]\n",
            " [0.00 0.00 0.01 0.00 0.00 0.00 0.00 0.98 0.00 0.01]\n",
            " [0.01 0.00 0.00 0.01 0.00 0.00 0.00 0.00 0.97 0.00]\n",
            " [0.00 0.00 0.00 0.00 0.01 0.00 0.00 0.00 0.00 0.98]]\n"
          ]
        },
        {
          "output_type": "display_data",
          "data": {
            "text/plain": [
              "<Figure size 720x720 with 2 Axes>"
            ],
            "image/png": "[encoded data removed]"
          },
          "metadata": {
            "needs_background": "light"
          }
        }
      ]
    }
  ]
}