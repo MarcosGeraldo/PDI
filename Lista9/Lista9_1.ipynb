{
  "nbformat": 4,
  "nbformat_minor": 0,
  "metadata": {
    "colab": {
      "provenance": [],
      "collapsed_sections": []
    },
    "kernelspec": {
      "name": "python3",
      "display_name": "Python 3"
    },
    "language_info": {
      "name": "python"
    }
  },
  "cells": [
    {
      "cell_type": "markdown",
      "source": [
        "# Carregar as bibliotecas"
      ],
      "metadata": {
        "id": "9mu-jMnwKQAw"
      }
    },
    {
      "cell_type": "code",
      "source": [
        "import numpy as np\n",
        "from skimage import io, data, filters, util, color, transform, exposure, measure\n",
        "from skimage.util import img_as_float, img_as_uint, img_as_ubyte\n",
        "import matplotlib.pyplot as plt\n",
        "from sklearn import preprocessing, metrics, svm\n",
        "from sklearn.model_selection import train_test_split\n",
        "np.seterr(divide='ignore', invalid='ignore')"
      ],
      "metadata": {
        "id": "m_6GWwLkKbd-",
        "colab": {
          "base_uri": "https://localhost:8080/"
        },
        "outputId": "2690c193-31d4-49bb-b298-d0d2eda8f97d"
      },
      "execution_count": null,
      "outputs": [
        {
          "output_type": "execute_result",
          "data": {
            "text/plain": [
              "{'divide': 'warn', 'over': 'warn', 'under': 'ignore', 'invalid': 'warn'}"
            ]
          },
          "metadata": {},
          "execution_count": 1
        }
      ]
    },
    {
      "cell_type": "code",
      "source": [
        "import torch\n",
        "import torch.nn as nn\n",
        "import torchvision\n",
        "import torchvision.transforms as transforms\n",
        "from datetime import datetime\n",
        "from torchvision import datasets"
      ],
      "metadata": {
        "id": "HifLHE_rzlTo"
      },
      "execution_count": null,
      "outputs": []
    },
    {
      "cell_type": "markdown",
      "source": [
        "## Carregar base MNIST para classificar usando Rede Neural"
      ],
      "metadata": {
        "id": "sHRypX4rNziJ"
      }
    },
    {
      "cell_type": "code",
      "source": [
        "train_dataset = torchvision.datasets.MNIST(\n",
        "    root='.',\n",
        "    train=True,\n",
        "    transform=transforms.ToTensor(),\n",
        "    download=True\n",
        ")"
      ],
      "metadata": {
        "id": "ThtCgJ209jQF"
      },
      "execution_count": null,
      "outputs": []
    },
    {
      "cell_type": "code",
      "source": [
        "test_dataset = torchvision.datasets.MNIST(\n",
        "    root='.',\n",
        "    train=False,\n",
        "    transform = transforms.ToTensor(),\n",
        "    download=True\n",
        ")"
      ],
      "metadata": {
        "id": "arg8mT5E9waG"
      },
      "execution_count": null,
      "outputs": []
    },
    {
      "cell_type": "code",
      "source": [
        "print(test_dataset)"
      ],
      "metadata": {
        "colab": {
          "base_uri": "https://localhost:8080/"
        },
        "id": "59a7fxQy993X",
        "outputId": "ea7fa58c-1486-4540-e2c0-2a2e87183fde"
      },
      "execution_count": null,
      "outputs": [
        {
          "output_type": "stream",
          "name": "stdout",
          "text": [
            "Dataset MNIST\n",
            "    Number of datapoints: 10000\n",
            "    Root location: .\n",
            "    Split: Test\n",
            "    StandardTransform\n",
            "Transform: ToTensor()\n"
          ]
        }
      ]
    },
    {
      "cell_type": "markdown",
      "source": [
        "## Classificando usanda uma RNA"
      ],
      "metadata": {
        "id": "pH_AnDIPU-Ur"
      }
    },
    {
      "cell_type": "code",
      "source": [
        "# Definição da rede\n",
        "model = nn.Sequential(\n",
        "    nn.Linear(in_features=784, out_features=128), # Capa Fully Connected\n",
        "    nn.ReLU(), # Função de ativação ReLU\n",
        "    nn.Linear(in_features=128,out_features=10) # Capa Fully Connected\n",
        ")\n",
        "# nao é necessário uma função softmax no final devido à função Loss utilizada"
      ],
      "metadata": {
        "id": "b9BL2JRPITD8"
      },
      "execution_count": null,
      "outputs": []
    },
    {
      "cell_type": "markdown",
      "source": [
        "### Verifica disponibilidade de GPU, se tiver, o modelo é enviado à GPU"
      ],
      "metadata": {
        "id": "SS4jItpXV22q"
      }
    },
    {
      "cell_type": "code",
      "source": [
        "device = torch.device(\"cuda:0\" if torch.cuda.is_available() else \"cpu\")\n",
        "print(device)\n",
        "model.to(device)"
      ],
      "metadata": {
        "colab": {
          "base_uri": "https://localhost:8080/",
          "height": 217
        },
        "id": "_Rji22n-hz2K",
        "outputId": "246f5489-3556-449b-aeb5-cf1e03d3ee8c"
      },
      "execution_count": null,
      "outputs": [
        {
          "output_type": "stream",
          "name": "stdout",
          "text": [
            "cpu\n"
          ]
        },
        {
          "output_type": "error",
          "ename": "NameError",
          "evalue": "ignored",
          "traceback": [
            "\u001b[0;31m---------------------------------------------------------------------------\u001b[0m",
            "\u001b[0;31mNameError\u001b[0m                                 Traceback (most recent call last)",
            "\u001b[0;32m<ipython-input-6-12c222522108>\u001b[0m in \u001b[0;36m<module>\u001b[0;34m\u001b[0m\n\u001b[1;32m      1\u001b[0m \u001b[0mdevice\u001b[0m \u001b[0;34m=\u001b[0m \u001b[0mtorch\u001b[0m\u001b[0;34m.\u001b[0m\u001b[0mdevice\u001b[0m\u001b[0;34m(\u001b[0m\u001b[0;34m\"cuda:0\"\u001b[0m \u001b[0;32mif\u001b[0m \u001b[0mtorch\u001b[0m\u001b[0;34m.\u001b[0m\u001b[0mcuda\u001b[0m\u001b[0;34m.\u001b[0m\u001b[0mis_available\u001b[0m\u001b[0;34m(\u001b[0m\u001b[0;34m)\u001b[0m \u001b[0;32melse\u001b[0m \u001b[0;34m\"cpu\"\u001b[0m\u001b[0;34m)\u001b[0m\u001b[0;34m\u001b[0m\u001b[0;34m\u001b[0m\u001b[0m\n\u001b[1;32m      2\u001b[0m \u001b[0mprint\u001b[0m\u001b[0;34m(\u001b[0m\u001b[0mdevice\u001b[0m\u001b[0;34m)\u001b[0m\u001b[0;34m\u001b[0m\u001b[0;34m\u001b[0m\u001b[0m\n\u001b[0;32m----> 3\u001b[0;31m \u001b[0mmodel\u001b[0m\u001b[0;34m.\u001b[0m\u001b[0mto\u001b[0m\u001b[0;34m(\u001b[0m\u001b[0mdevice\u001b[0m\u001b[0;34m)\u001b[0m\u001b[0;34m\u001b[0m\u001b[0;34m\u001b[0m\u001b[0m\n\u001b[0m",
            "\u001b[0;31mNameError\u001b[0m: name 'model' is not defined"
          ]
        }
      ]
    },
    {
      "cell_type": "markdown",
      "source": [
        "### Definição da função de perda (*Loss function*) e da função de otimização para minimização do erro"
      ],
      "metadata": {
        "id": "5yNLbOiKWPNY"
      }
    },
    {
      "cell_type": "code",
      "source": [
        "# Loss para varias classes\n",
        "criterion = nn.CrossEntropyLoss()\n",
        "# Optimizer\n",
        "optimizer = torch.optim.Adagrad( model.parameters() )"
      ],
      "metadata": {
        "id": "dcaQm4QUvIZa"
      },
      "execution_count": null,
      "outputs": []
    },
    {
      "cell_type": "markdown",
      "source": [
        "## Datalaloader usada para criar batches durante o treino"
      ],
      "metadata": {
        "id": "Dq9jCOHXWgfV"
      }
    },
    {
      "cell_type": "code",
      "source": [
        "# Data loader\n",
        "# Util pq cria automáticamente batches durante o treino\n",
        "# além de embaralhar os dados\n",
        "batch_size = 128\n",
        "train_loader = torch.utils.data.DataLoader(dataset = train_dataset,\n",
        "    batch_size = batch_size,\n",
        "    shuffle = True) \n",
        "test_loader = torch.utils.data.DataLoader(dataset = test_dataset,\n",
        "    batch_size = batch_size,\n",
        "    shuffle = False) "
      ],
      "metadata": {
        "id": "FUlW3-m5h4OK"
      },
      "execution_count": null,
      "outputs": []
    },
    {
      "cell_type": "code",
      "source": [
        "# verificação do funcionamento do dataloader\n",
        "for x, y in train_loader:\n",
        "    print(f'batch de dados: {x.shape}')\n",
        "    print(f'batch de etiquetas: {y.shape}')\n",
        "    f, (ax1, ax2) = plt.subplots(1, 2, sharey=True)\n",
        "#    ax1.imshow(np.transpose(x[0].numpy(), (1,2,0)), cmap = 'gray')\n",
        "#    ax2.imshow(np.transpose(x[0].numpy(), (1,2,0)), cmap = 'gray')\n",
        "    ax1.imshow(x[0].numpy()[-1,:,:], cmap = 'gray')\n",
        "    ax2.imshow(x[1].numpy()[-1,:,:], cmap = 'gray')\n",
        "    break\n"
      ],
      "metadata": {
        "colab": {
          "base_uri": "https://localhost:8080/",
          "height": 236
        },
        "id": "s-V8r2EbXax0",
        "outputId": "57378c51-721f-4715-fd01-45a7bcb66c5c"
      },
      "execution_count": null,
      "outputs": [
        {
          "output_type": "stream",
          "name": "stdout",
          "text": [
            "batch de dados: torch.Size([128, 1, 28, 28])\n",
            "batch de etiquetas: torch.Size([128])\n"
          ]
        },
        {
          "output_type": "display_data",
          "data": {
            "text/plain": [
              "<Figure size 432x288 with 2 Axes>"
            ],
            "image/png": "[encoded data removed]"
          },
          "metadata": {
            "needs_background": "light"
          }
        }
      ]
    },
    {
      "cell_type": "markdown",
      "source": [
        "## Treino"
      ],
      "metadata": {
        "id": "-iM1HItOXdeZ"
      }
    },
    {
      "cell_type": "code",
      "source": [
        "def fit(model, criterion, optimizer, train_loader, test_loader, n_epochs=10):\n",
        "  # salva o Loss do treino e o teste em cada época\n",
        "  train_losses = np.zeros(n_epochs)\n",
        "  test_losses = np.zeros(n_epochs)\n",
        "\n",
        "  # itera por cada época\n",
        "  for it in range(n_epochs):\n",
        "\n",
        "      train_loss = []\n",
        "      # carregar batch de dados e de etiquetas do treino\n",
        "      for inputs, targets in train_loader:\n",
        "          # mover os dados para o GPU ou CPU\n",
        "          inputs, targets = inputs.to(device), targets.to(device)\n",
        "\n",
        "          # modificar a dimensão de batch X height X width X channel   ->    batch x (height*width*channel)\n",
        "          #                          128 x 28 x 28 x 1                 ->     128 x (28*28*1)\n",
        "          inputs = inputs.view(-1, 784)\n",
        "          # zerar os gradientes\n",
        "          optimizer.zero_grad()\n",
        "\n",
        "          # forward pass\n",
        "          outputs = model(inputs)\n",
        "          loss = criterion(outputs, targets)\n",
        "\n",
        "          # backward pass e optimização para minimizar o erro\n",
        "          loss.backward()\n",
        "          optimizer.step()\n",
        "\n",
        "          # salva o erro do treino em cada batch\n",
        "          train_loss.append( loss.item() )\n",
        "\n",
        "      # calcula a média de erros de todos os batches para calcular o erro do treino por época\n",
        "      train_loss = np.mean(train_loss)\n",
        "\n",
        "      test_loss = []\n",
        "      # carregar batch de dados e de etiquetas da validação\n",
        "      for inputs, targets in test_loader:\n",
        "          # mover os dados para o GPU\n",
        "          inputs, targets = inputs.to(device), targets.to(device)\n",
        "\n",
        "          # modificar a dimensão \n",
        "          inputs = inputs.view(-1, 784)\n",
        "\n",
        "          # forward pass\n",
        "          outputs = model(inputs)\n",
        "          loss = criterion(outputs, targets)\n",
        "          \n",
        "          # não é incluido o backward pass e a optimização porque avalia a aprendizagem\n",
        "\n",
        "          # salva o erro do treino em cada batch\n",
        "          test_loss.append(loss.item())\n",
        "\n",
        "      # calcula a média de erros de todos os batches para calcular o erro da validação por época\n",
        "      test_loss = np.mean(test_loss)\n",
        "\n",
        "      # salvar losses de treino e validação nos vetores\n",
        "      train_losses[it] = train_loss\n",
        "      test_losses[it] = test_loss\n",
        "\n",
        "      \n",
        "      print(f'Epoch {it+1}/{n_epochs} Train Loss: {train_loss.item():.4f} Test Loss: {test_loss.item()}')\n",
        "  return train_loss, test_loss\n"
      ],
      "metadata": {
        "id": "9ONge9dfYiIZ"
      },
      "execution_count": null,
      "outputs": []
    },
    {
      "cell_type": "code",
      "source": [
        "train_losses, test_losses = fit(model, criterion, optimizer, train_loader, test_loader, n_epochs = 10)\n",
        "\n"
      ],
      "metadata": {
        "colab": {
          "base_uri": "https://localhost:8080/"
        },
        "id": "9t7pgZLJYMzi",
        "outputId": "2dd35764-ad7b-479f-fe27-0a7ee42587fb"
      },
      "execution_count": null,
      "outputs": [
        {
          "output_type": "stream",
          "name": "stdout",
          "text": [
            "Epoch 1/10 Train Loss: 0.2188 Test Loss: 0.19427382000545157\n",
            "Epoch 2/10 Train Loss: 0.1861 Test Loss: 0.1737366714514792\n",
            "Epoch 3/10 Train Loss: 0.1656 Test Loss: 0.16135701158119342\n",
            "Epoch 4/10 Train Loss: 0.1513 Test Loss: 0.14873595708462445\n",
            "Epoch 5/10 Train Loss: 0.1401 Test Loss: 0.14008923306401017\n",
            "Epoch 6/10 Train Loss: 0.1310 Test Loss: 0.1346347292537412\n",
            "Epoch 7/10 Train Loss: 0.1235 Test Loss: 0.12862618247789767\n",
            "Epoch 8/10 Train Loss: 0.1171 Test Loss: 0.12469328546165666\n",
            "Epoch 9/10 Train Loss: 0.1116 Test Loss: 0.12046984928848717\n",
            "Epoch 10/10 Train Loss: 0.1070 Test Loss: 0.11748689351178988\n"
          ]
        }
      ]
    },
    {
      "cell_type": "code",
      "source": [
        "plt.plot(train_losses, label = 'train loss')\n",
        "plt.plot(test_losses, label = 'test loss')\n",
        "plt.legend()\n",
        "plt.show()"
      ],
      "metadata": {
        "colab": {
          "base_uri": "https://localhost:8080/",
          "height": 269
        },
        "id": "d3R4-BH7epAT",
        "outputId": "15a089b7-0d5a-4cf1-d3ae-8db4451dd5ad"
      },
      "execution_count": null,
      "outputs": [
        {
          "output_type": "display_data",
          "data": {
            "text/plain": [
              "<Figure size 432x288 with 1 Axes>"
            ],
            "image/png": "[encoded data removed]"
          },
          "metadata": {
            "needs_background": "light"
          }
        }
      ]
    },
    {
      "cell_type": "markdown",
      "source": [
        "## Gerando todas as etiquetas do conjunto de teste"
      ],
      "metadata": {
        "id": "0vQFInGoXk22"
      }
    },
    {
      "cell_type": "code",
      "source": [
        "def predict_module(model, data_loader):\n",
        "  model.eval()\n",
        "  predicted = np.empty((0), int)\n",
        "  true_labels = np.empty((0), int)\n",
        "  for inputs, targets in data_loader:\n",
        "      # mover os dados para o GPU\n",
        "      inputs, targets = inputs.to(device), targets.to(device)\n",
        "\n",
        "      # modificar a dimensão \n",
        "      inputs = inputs.view(-1, 784)\n",
        "\n",
        "      # \n",
        "      outputs = model(inputs)\n",
        "\n",
        "      # obter a predição\n",
        "      _, predictions = torch.max(outputs, 1)\n",
        "\n",
        "      predicted = np.append(predicted, predictions)\n",
        "      true_labels = np.append(true_labels, targets)\n",
        "\n",
        "  return predicted, true_labels"
      ],
      "metadata": {
        "id": "kMqSd6rZfIN-"
      },
      "execution_count": null,
      "outputs": []
    },
    {
      "cell_type": "code",
      "source": [
        "predicted, true_labels = predict_module(model, test_loader)"
      ],
      "metadata": {
        "id": "G10QyxZ6cluz"
      },
      "execution_count": null,
      "outputs": []
    },
    {
      "cell_type": "markdown",
      "source": [
        "## Matriz de confusão"
      ],
      "metadata": {
        "id": "fk4M4DxKX48u"
      }
    },
    {
      "cell_type": "code",
      "source": [
        "def matriz_confusao(true_labels, predicted):\n",
        "    m = metrics.confusion_matrix(true_labels, predicted) \n",
        "    tot = np.sum(m, axis=1, keepdims=True) \n",
        "\n",
        "    m_porc = m/tot\n",
        "    m_porc_str = np.array2string(m_porc, formatter={'float_kind':lambda x: \"%.2f\" % x})\n",
        "    print( m_porc_str )\n",
        "\n",
        "    np.set_printoptions(precision=2, suppress = True)\n",
        "    disp = metrics.ConfusionMatrixDisplay(confusion_matrix=m, display_labels=[0,1,2,3,4,5,6,7,8,9])\n",
        "    fig, ax = plt.subplots(figsize=(10,10))\n",
        "    disp.plot(ax=ax)\n",
        "    plt.show()"
      ],
      "metadata": {
        "id": "9JvrwGKOh9ua"
      },
      "execution_count": null,
      "outputs": []
    },
    {
      "cell_type": "code",
      "source": [
        "matriz_confusao(true_labels, predicted) \n",
        "\n"
      ],
      "metadata": {
        "colab": {
          "base_uri": "https://localhost:8080/",
          "height": 754
        },
        "id": "4S4jA1QzlNeg",
        "outputId": "64834353-e1a6-4e11-94ef-0e4dd5466573"
      },
      "execution_count": null,
      "outputs": [
        {
          "output_type": "stream",
          "name": "stdout",
          "text": [
            "[[0.99 0.00 0.00 0.00 0.00 0.00 0.00 0.00 0.00 0.00]\n",
            " [0.00 0.99 0.00 0.00 0.00 0.00 0.00 0.00 0.00 0.00]\n",
            " [0.00 0.00 0.97 0.00 0.00 0.00 0.00 0.00 0.01 0.00]\n",
            " [0.00 0.00 0.00 0.97 0.00 0.01 0.00 0.01 0.00 0.01]\n",
            " [0.00 0.00 0.00 0.00 0.97 0.00 0.01 0.00 0.00 0.02]\n",
            " [0.00 0.00 0.00 0.02 0.00 0.96 0.01 0.00 0.01 0.00]\n",
            " [0.01 0.00 0.00 0.00 0.01 0.01 0.97 0.00 0.00 0.00]\n",
            " [0.00 0.01 0.01 0.01 0.00 0.00 0.00 0.95 0.00 0.02]\n",
            " [0.00 0.00 0.00 0.01 0.00 0.01 0.01 0.00 0.95 0.01]\n",
            " [0.00 0.01 0.00 0.01 0.01 0.00 0.00 0.01 0.00 0.95]]\n"
          ]
        },
        {
          "output_type": "display_data",
          "data": {
            "text/plain": [
              "<Figure size 720x720 with 2 Axes>"
            ],
            "image/png": "[encoded data removed]"
          },
          "metadata": {
            "needs_background": "light"
          }
        }
      ]
    },
    {
      "cell_type": "markdown",
      "source": [
        "# Questão 1\n",
        "\n",
        "<p> Modifique o número de camadas da rede </p>"
      ],
      "metadata": {
        "id": "3tdnyE4tX9xE"
      }
    },
    {
      "cell_type": "code",
      "source": [
        "# Definição da rede\n",
        "model_new = nn.Sequential(\n",
        "      nn.Linear(in_features=784, out_features=128), # Capa Fully Connected\n",
        "      nn.ReLU(), # Função de ativação ReLU\n",
        "      nn.Linear(in_features=128,out_features=64), # Capa Fully Connected\n",
        "      nn.ReLU(), # Função de ativação ReLU\n",
        "      nn.Linear(in_features=64,out_features=10) # Capa Fully Connected\n",
        ")\n",
        "# nao é necessário uma função softmax no final devido à função Loss utilizada"
      ],
      "metadata": {
        "id": "n-thMaBhYAuc"
      },
      "execution_count": null,
      "outputs": []
    },
    {
      "cell_type": "code",
      "source": [
        "device = torch.device(\"cuda:0\" if torch.cuda.is_available() else \"cpu\")\n",
        "print(device)\n",
        "model_new.to(device)"
      ],
      "metadata": {
        "colab": {
          "base_uri": "https://localhost:8080/"
        },
        "id": "Z8sTn9Ewfl77",
        "outputId": "35470f13-d187-407d-f5d4-63caf5cb13e0"
      },
      "execution_count": null,
      "outputs": [
        {
          "output_type": "stream",
          "name": "stdout",
          "text": [
            "cpu\n"
          ]
        },
        {
          "output_type": "execute_result",
          "data": {
            "text/plain": [
              "Sequential(\n",
              "  (0): Linear(in_features=784, out_features=128, bias=True)\n",
              "  (1): ReLU()\n",
              "  (2): Linear(in_features=128, out_features=64, bias=True)\n",
              "  (3): ReLU()\n",
              "  (4): Linear(in_features=64, out_features=10, bias=True)\n",
              ")"
            ]
          },
          "metadata": {},
          "execution_count": 7
        }
      ]
    },
    {
      "cell_type": "code",
      "source": [
        "# Loss para varias classes\n",
        "criterion_new = nn.CrossEntropyLoss()\n",
        "# Optimizer\n",
        "optimizer = torch.optim.Adagrad( model_new.parameters() )"
      ],
      "metadata": {
        "id": "saPKNEUeeWZ4"
      },
      "execution_count": null,
      "outputs": []
    },
    {
      "cell_type": "code",
      "source": [
        "train_losses, test_losses = fit(model_new, criterion_new, optimizer, train_loader, test_loader, n_epochs = 10)"
      ],
      "metadata": {
        "colab": {
          "base_uri": "https://localhost:8080/"
        },
        "id": "h5mPtMFwdedt",
        "outputId": "3e8a4ab5-ba4e-41e6-f75c-1947f924a79d"
      },
      "execution_count": null,
      "outputs": [
        {
          "output_type": "stream",
          "name": "stdout",
          "text": [
            "Epoch 1/10 Train Loss: 0.3321 Test Loss: 0.1977879955445098\n",
            "Epoch 2/10 Train Loss: 0.1817 Test Loss: 0.16022293376913177\n",
            "Epoch 3/10 Train Loss: 0.1490 Test Loss: 0.1387587652211608\n",
            "Epoch 4/10 Train Loss: 0.1289 Test Loss: 0.1255691307950529\n",
            "Epoch 5/10 Train Loss: 0.1141 Test Loss: 0.11767931557790953\n",
            "Epoch 6/10 Train Loss: 0.1036 Test Loss: 0.10809361681348019\n",
            "Epoch 7/10 Train Loss: 0.0951 Test Loss: 0.10371776772780886\n",
            "Epoch 8/10 Train Loss: 0.0881 Test Loss: 0.09909709332852706\n",
            "Epoch 9/10 Train Loss: 0.0827 Test Loss: 0.09558062469793036\n",
            "Epoch 10/10 Train Loss: 0.0774 Test Loss: 0.09143010510243711\n"
          ]
        }
      ]
    },
    {
      "cell_type": "code",
      "source": [
        "predicted, true_labels = predict_module(model_new, test_loader)\n",
        "matriz_confusao(true_labels, predicted) "
      ],
      "metadata": {
        "colab": {
          "base_uri": "https://localhost:8080/",
          "height": 754
        },
        "id": "H5-RgmiRhyJC",
        "outputId": "75322a74-c148-4ab0-83e1-e4d62be2adab"
      },
      "execution_count": null,
      "outputs": [
        {
          "output_type": "stream",
          "name": "stdout",
          "text": [
            "[[0.99 0.00 0.00 0.00 0.00 0.00 0.00 0.00 0.00 0.00]\n",
            " [0.00 0.99 0.00 0.00 0.00 0.00 0.00 0.00 0.00 0.00]\n",
            " [0.00 0.00 0.97 0.00 0.00 0.00 0.00 0.01 0.01 0.00]\n",
            " [0.00 0.00 0.01 0.97 0.00 0.00 0.00 0.01 0.01 0.00]\n",
            " [0.00 0.00 0.00 0.00 0.97 0.00 0.00 0.00 0.00 0.02]\n",
            " [0.00 0.00 0.00 0.01 0.00 0.97 0.01 0.00 0.01 0.00]\n",
            " [0.01 0.00 0.00 0.00 0.01 0.00 0.98 0.00 0.00 0.00]\n",
            " [0.00 0.01 0.01 0.00 0.00 0.00 0.00 0.97 0.00 0.01]\n",
            " [0.00 0.00 0.00 0.01 0.00 0.01 0.01 0.01 0.96 0.00]\n",
            " [0.00 0.01 0.00 0.01 0.01 0.00 0.00 0.01 0.00 0.95]]\n"
          ]
        },
        {
          "output_type": "display_data",
          "data": {
            "text/plain": [
              "<Figure size 720x720 with 2 Axes>"
            ],
            "image/png": "[encoded data removed]"
          },
          "metadata": {
            "needs_background": "light"
          }
        }
      ]
    }
  ]
}