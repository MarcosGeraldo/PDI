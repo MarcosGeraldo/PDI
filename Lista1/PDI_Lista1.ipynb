{
  "nbformat": 4,
  "nbformat_minor": 0,
  "metadata": {
    "colab": {
      "name": "PDI-Lista1.ipynb",
      "provenance": [],
      "collapsed_sections": []
    },
    "kernelspec": {
      "name": "python3",
      "display_name": "Python 3"
    },
    "language_info": {
      "name": "python"
    }
  },
  "cells": [
    {
      "cell_type": "markdown",
      "source": [
        "Questão 1\n",
        "\n"
      ],
      "metadata": {
        "id": "IQZgw_RDI6Vt"
      }
    },
    {
      "cell_type": "code",
      "execution_count": 13,
      "metadata": {
        "colab": {
          "base_uri": "https://localhost:8080/"
        },
        "id": "Wwm0i4nfIyTU",
        "outputId": "2d946277-e0c7-4621-89e8-83287ed12f2f"
      },
      "outputs": [
        {
          "output_type": "stream",
          "name": "stdout",
          "text": [
            "a) x[5] =  6\n",
            "b) x[1:4] =  [2 3 4]\n",
            "c) x[1:] =  [2 3 4 5 6]\n",
            "d) x[:-1] =  [1 2 3 4 5]\n",
            "e) x[5:1:-1] =  [6 5 4 3]\n",
            "f) x[[1, 5, 2, 1, 1]] =  [2 6 3 2 2]\n"
          ]
        }
      ],
      "source": [
        "import numpy as np\n",
        "x = np . array ( [ 1 , 2 , 3 , 4 , 5 , 6 ] )\n",
        "\n",
        "print(\"a) x[5] = \",x[5]) # posição 5 do vetor\n",
        "print(\"b) x[1:4] = \",x[1:4]) # da posição 1 a 3\n",
        "print(\"c) x[1:] = \",x[1:]) # todos apos a posição 1\n",
        "print(\"d) x[:-1] = \",x[:-1]) # todos exceto o ultimo\n",
        "print(\"e) x[5:1:-1] = \",x[5:1:-1]) # da posição 5 a 1 com passo -1, invertido\n",
        "print(\"f) x[[1, 5, 2, 1, 1]] = \",x[[1, 5, 2, 1, 1]]) #colocando em um novo vetor os valores das posicoes 1 5 2 1 1 do vetor x"
      ]
    },
    {
      "cell_type": "markdown",
      "source": [
        "Questão 2"
      ],
      "metadata": {
        "id": "HNbFkWTwI5hi"
      }
    },
    {
      "cell_type": "code",
      "source": [
        "import numpy as np\n",
        "M = np.array([ [ 10 , 2 , 10 , 5 ] , [ 2 , 5 , 1 , 6 ] , [ 2 , 4 , 8 , 10 ] , [ 4 , 10 , 3 , 5 ] ] )\n",
        "print(M)\n",
        "\n",
        "M[:,0]=1\n",
        "M[3,:]=1\n",
        "print(\"\\n\")\n",
        "print(M)"
      ],
      "metadata": {
        "colab": {
          "base_uri": "https://localhost:8080/"
        },
        "id": "khcstD-8I7mX",
        "outputId": "1a590d48-2d34-486d-872c-43afd973f940"
      },
      "execution_count": 21,
      "outputs": [
        {
          "output_type": "stream",
          "name": "stdout",
          "text": [
            "[[10  2 10  5]\n",
            " [ 2  5  1  6]\n",
            " [ 2  4  8 10]\n",
            " [ 4 10  3  5]]\n",
            "\n",
            "\n",
            "[[ 1  2 10  5]\n",
            " [ 1  5  1  6]\n",
            " [ 1  4  8 10]\n",
            " [ 1  1  1  1]]\n"
          ]
        }
      ]
    },
    {
      "cell_type": "markdown",
      "source": [
        "Questão 3\n"
      ],
      "metadata": {
        "id": "Z3O-10-WI8LI"
      }
    },
    {
      "cell_type": "code",
      "source": [
        "import numpy as np\n",
        "A = np.array([ 1 , 2 , 3 ]) .reshape(( 1 , 3 ))\n",
        "B = np.array([ 3 , 2 , 1 ]) .reshape(( 1 , 3 ))\n",
        "M = np.array([[ 4 , 5 , 6 ],[ 6 , 5 , 3 ]])\n",
        "\n",
        "result=A+B #se somou item a item\n",
        "result.shape\n",
        "print(\"a)\"\"Resultado: \", result,\"Shape: \", result.shape )\n",
        "\n",
        "result=A+M #cada linha da matriz foi somada com o vetor\n",
        "result.shape\n",
        "print(\"b)\"\"Resultado: \", result,\"Shape: \", result.shape )\n",
        "\n",
        "result=A.T #Transpopsição do vetor\n",
        "result.shape\n",
        "print(\"c)\"\"Resultado: \", result,\"Shape: \", result.shape )\n",
        "\n",
        "result=A.T+B #matriz 3x3 da soma da vetor coluna A com o vetor linha B\n",
        "result.shape\n",
        "print(\"d)\"\"Resultado: \", result,\"Shape: \", result.shape )\n",
        "\n",
        "result=M - np.vstack([A, B]) #a subtração da matriz formada pela junção de A e B subtraindo de M\n",
        "result.shape\n",
        "print(\"e)\"\"Resultado: \", result,\"Shape: \", result.shape )\n",
        "\n",
        "#result= np.vstack([A, B.T]) #Erro, pois os itens devem ter as mesmas dimençoes\n",
        "result.shape\n",
        "print(\"f)\"\"Resultado: \", result,\"Shape: \", result.shape )\n",
        "\n",
        "result=np.vstack([A, B]) #matriz formada pela junção de A e B\n",
        "result.shape\n",
        "print(\"g)\"\"Resultado: \", result,\"Shape: \", result.shape )\n",
        "\n",
        "result=M - 3 #se subtrai 3 de todos os valores de M\n",
        "result.shape\n",
        "print(\"h)\"\"Resultado: \", result,\"Shape: \", result.shape )\n",
        "\n",
        "result=A*B #multiplicação de \"matrizes\" feitas em cima do vetor\n",
        "result.shape\n",
        "print(\"i)\"\"Resultado: \", result,\"Shape: \", result.shape )\n",
        "\n",
        "result=np.matmul(A, B.T) #soma dos valores obtidos com a multiplicação de matrizes\n",
        "result.shape\n",
        "print(\"j)\"\"Resultado: \", result,\"Shape: \", result.shape )\n"
      ],
      "metadata": {
        "colab": {
          "base_uri": "https://localhost:8080/"
        },
        "id": "HW8lfTJkI83n",
        "outputId": "7ec9d40e-a61a-4102-cd4c-af5536702091"
      },
      "execution_count": 47,
      "outputs": [
        {
          "output_type": "stream",
          "name": "stdout",
          "text": [
            "a)Resultado:  [[4 4 4]] Shape:  (1, 3)\n",
            "b)Resultado:  [[5 7 9]\n",
            " [7 7 6]] Shape:  (2, 3)\n",
            "c)Resultado:  [[1]\n",
            " [2]\n",
            " [3]] Shape:  (3, 1)\n",
            "d)Resultado:  [[4 3 2]\n",
            " [5 4 3]\n",
            " [6 5 4]] Shape:  (3, 3)\n",
            "e)Resultado:  [[3 3 3]\n",
            " [3 3 2]] Shape:  (2, 3)\n",
            "f)Resultado:  [[3 3 3]\n",
            " [3 3 2]] Shape:  (2, 3)\n",
            "g)Resultado:  [[1 2 3]\n",
            " [3 2 1]] Shape:  (2, 3)\n",
            "h)Resultado:  [[1 2 3]\n",
            " [3 2 0]] Shape:  (2, 3)\n",
            "i)Resultado:  [[3 4 3]] Shape:  (1, 3)\n",
            "j)Resultado:  [[10]] Shape:  (1, 1)\n"
          ]
        }
      ]
    },
    {
      "cell_type": "markdown",
      "source": [
        "Questão 4"
      ],
      "metadata": {
        "id": "kZ6TV255I9Gc"
      }
    },
    {
      "cell_type": "code",
      "source": [
        "M = np.array([[ 2 , 10 , 7 , 6 ],[ 3 , 12 , 25 , 9 ]])\n",
        "print(M)\n",
        "print(\"\\n\")\n",
        "M = np.append(M,[[30 , 21 , 19 , 1]],axis=0)\n",
        "print(M)\n",
        "\n",
        "\n",
        "B = np.append(M[0][1:3],M[1][1:3],axis=0)\n",
        "B = B.reshape((2,2))\n",
        "print(B)"
      ],
      "metadata": {
        "colab": {
          "base_uri": "https://localhost:8080/"
        },
        "id": "16cDrPF6I9g_",
        "outputId": "cf8168f1-9b4e-454d-c492-7094bb3f5463"
      },
      "execution_count": 83,
      "outputs": [
        {
          "output_type": "stream",
          "name": "stdout",
          "text": [
            "[[ 2 10  7  6]\n",
            " [ 3 12 25  9]]\n",
            "\n",
            "\n",
            "[[ 2 10  7  6]\n",
            " [ 3 12 25  9]\n",
            " [30 21 19  1]]\n",
            "[[10  7]\n",
            " [12 25]]\n"
          ]
        }
      ]
    },
    {
      "cell_type": "markdown",
      "source": [
        "Questão 5"
      ],
      "metadata": {
        "id": "Y31QXQLPI9u7"
      }
    },
    {
      "cell_type": "code",
      "source": [
        "x = np.arange(31,75,2)\n",
        "print(x)"
      ],
      "metadata": {
        "colab": {
          "base_uri": "https://localhost:8080/"
        },
        "id": "JQ6MkL7kJKt2",
        "outputId": "7b378b10-9f0a-43dd-b7cb-4d02c89b0b6b"
      },
      "execution_count": 90,
      "outputs": [
        {
          "output_type": "stream",
          "name": "stdout",
          "text": [
            "[31 33 35 37 39 41 43 45 47 49 51 53 55 57 59 61 63 65 67 69 71 73]\n"
          ]
        }
      ]
    },
    {
      "cell_type": "markdown",
      "source": [
        "Questão 6"
      ],
      "metadata": {
        "id": "-X4VmAPzJK8V"
      }
    },
    {
      "cell_type": "code",
      "source": [
        "x = np.random.randint(100, size=10)\n",
        "print(x)\n",
        "index = np.argmax(x)\n",
        "print(index)\n",
        "x[index]=x[index]**2 \n",
        "print(x)"
      ],
      "metadata": {
        "colab": {
          "base_uri": "https://localhost:8080/"
        },
        "id": "5ES94cHwJLPs",
        "outputId": "c6d6adfe-52a9-451b-a1fe-05b7de2ba88f"
      },
      "execution_count": 96,
      "outputs": [
        {
          "output_type": "stream",
          "name": "stdout",
          "text": [
            "[69 53 78 77 21 54 99 72 22 31]\n",
            "6\n",
            "[  69   53   78   77   21   54 9801   72   22   31]\n"
          ]
        }
      ]
    }
  ]
}